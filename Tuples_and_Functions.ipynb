{
  "nbformat": 4,
  "nbformat_minor": 0,
  "metadata": {
    "colab": {
      "provenance": [],
      "authorship_tag": "ABX9TyNqKJFDTTQrYJ0DFnjj2cPz",
      "include_colab_link": true
    },
    "kernelspec": {
      "name": "python3",
      "display_name": "Python 3"
    },
    "language_info": {
      "name": "python"
    }
  },
  "cells": [
    {
      "cell_type": "markdown",
      "metadata": {
        "id": "view-in-github",
        "colab_type": "text"
      },
      "source": [
        "<a href=\"https://colab.research.google.com/github/iamnaofil/PythonTutorials/blob/main/Tuples_and_Functions.ipynb\" target=\"_parent\"><img src=\"https://colab.research.google.com/assets/colab-badge.svg\" alt=\"Open In Colab\"/></a>"
      ]
    },
    {
      "cell_type": "markdown",
      "source": [
        "**Tuples in Python**"
      ],
      "metadata": {
        "id": "fN6KuH1sReLY"
      }
    },
    {
      "cell_type": "code",
      "execution_count": null,
      "metadata": {
        "id": "-hS2hh4fRder"
      },
      "outputs": [],
      "source": [
        "#Tuple defines in round Bracket ( )"
      ]
    },
    {
      "cell_type": "markdown",
      "source": [
        "**Create Tuple** <br>\n",
        "**Access** <br>\n",
        "**Edit** <br>\n",
        "**Add** <br>\n",
        "**Delete**<br>\n",
        "**Operations**<br>\n",
        "**Functions**<br>"
      ],
      "metadata": {
        "id": "MEUbl1RdRli4"
      }
    },
    {
      "cell_type": "code",
      "source": [
        "#Creating Tupeles\n",
        "T1=() #It is an Empty Tuple"
      ],
      "metadata": {
        "id": "rG4vijeAR3Np"
      },
      "execution_count": 1,
      "outputs": []
    },
    {
      "cell_type": "code",
      "source": [
        "print(T1)"
      ],
      "metadata": {
        "colab": {
          "base_uri": "https://localhost:8080/"
        },
        "id": "COAaNeQUR9Dx",
        "outputId": "86acb47d-a529-4223-c6d3-de0e6944f660"
      },
      "execution_count": 2,
      "outputs": [
        {
          "output_type": "stream",
          "name": "stdout",
          "text": [
            "()\n"
          ]
        }
      ]
    },
    {
      "cell_type": "code",
      "source": [
        "#Creating Numbers Tuple\n",
        "T2=(1,2,3,4,5) #Homogenous means data types are similr\n",
        "print(T2)"
      ],
      "metadata": {
        "colab": {
          "base_uri": "https://localhost:8080/"
        },
        "id": "xXAHxRXRR-yI",
        "outputId": "763b2735-ac49-4470-d4fd-56a5d2a8c699"
      },
      "execution_count": 3,
      "outputs": [
        {
          "output_type": "stream",
          "name": "stdout",
          "text": [
            "(1, 2, 3, 4, 5)\n"
          ]
        }
      ]
    },
    {
      "cell_type": "code",
      "source": [
        "T3=('1',2,3,'4') #Hetrogenous Tuple : Different Data Type Items\n",
        "print(T3)"
      ],
      "metadata": {
        "colab": {
          "base_uri": "https://localhost:8080/"
        },
        "id": "v7Dd_9glSEVR",
        "outputId": "971babf4-5c9a-4e8a-e70f-1c6c3cd6cd53"
      },
      "execution_count": 4,
      "outputs": [
        {
          "output_type": "stream",
          "name": "stdout",
          "text": [
            "('1', 2, 3, '4')\n"
          ]
        }
      ]
    },
    {
      "cell_type": "markdown",
      "source": [
        "**2D - 3D Tuple**"
      ],
      "metadata": {
        "id": "SPWhDgynSUAj"
      }
    },
    {
      "cell_type": "code",
      "source": [
        "#We can also Create 2D Tuple (( )) inside tuple using bracket in bracket\n",
        "T4=((1,2,3,4,5,(6,7)))\n",
        "print(T4)"
      ],
      "metadata": {
        "colab": {
          "base_uri": "https://localhost:8080/"
        },
        "id": "m5yTOkApSOIR",
        "outputId": "1d9c377c-64e6-44c1-a0ae-1e06e38b58b1"
      },
      "execution_count": 6,
      "outputs": [
        {
          "output_type": "stream",
          "name": "stdout",
          "text": [
            "(1, 2, 3, 4, 5, (6, 7))\n"
          ]
        }
      ]
    },
    {
      "cell_type": "markdown",
      "source": [
        "**Single Item Tuple**"
      ],
      "metadata": {
        "id": "ljiSM61kSwIh"
      }
    },
    {
      "cell_type": "code",
      "source": [
        "#T5=(1) That was not created as Tuple\n",
        "#But its not single item tuple you have to add ,\n",
        "T5=(1,)\n",
        "print(T5)"
      ],
      "metadata": {
        "colab": {
          "base_uri": "https://localhost:8080/"
        },
        "id": "xa5iKXtTSgDp",
        "outputId": "cb8d568d-7d45-4e7f-de70-7695dcd7f330"
      },
      "execution_count": 7,
      "outputs": [
        {
          "output_type": "stream",
          "name": "stdout",
          "text": [
            "(1,)\n"
          ]
        }
      ]
    },
    {
      "cell_type": "markdown",
      "source": [
        "**Type Converting by Tuple**"
      ],
      "metadata": {
        "id": "NOQ4fUBUTCr8"
      }
    },
    {
      "cell_type": "code",
      "source": [
        "T6=tuple(\"Single Letter\") #Understand Here, ( tells individuality of String)\n",
        "print(T6)"
      ],
      "metadata": {
        "colab": {
          "base_uri": "https://localhost:8080/"
        },
        "id": "P4CzPLEiS_BV",
        "outputId": "1124748f-2c89-43d5-b6f0-730930b59ec0"
      },
      "execution_count": 8,
      "outputs": [
        {
          "output_type": "stream",
          "name": "stdout",
          "text": [
            "('S', 'i', 'n', 'g', 'l', 'e', ' ', 'L', 'e', 't', 't', 'e', 'r')\n"
          ]
        }
      ]
    },
    {
      "cell_type": "markdown",
      "source": [
        "**Q1) Store Sentence into letter by letter**"
      ],
      "metadata": {
        "id": "UlQXdKkBTUeA"
      }
    },
    {
      "cell_type": "code",
      "source": [
        "text=\"Momin Naofil Ahmad\"\n",
        "text_tuple=(tuple(text))"
      ],
      "metadata": {
        "id": "3jd_vhwGTLt-"
      },
      "execution_count": 9,
      "outputs": []
    },
    {
      "cell_type": "code",
      "source": [
        "print(text_tuple)"
      ],
      "metadata": {
        "colab": {
          "base_uri": "https://localhost:8080/"
        },
        "id": "hQaCcUQBTj3q",
        "outputId": "a6678997-0212-461c-a91a-63b7cf87dced"
      },
      "execution_count": 10,
      "outputs": [
        {
          "output_type": "stream",
          "name": "stdout",
          "text": [
            "('M', 'o', 'm', 'i', 'n', ' ', 'N', 'a', 'o', 'f', 'i', 'l', ' ', 'A', 'h', 'm', 'a', 'd')\n"
          ]
        }
      ]
    },
    {
      "cell_type": "code",
      "source": [
        "#Alternative of this Where You can retrive all middle name as i[1] of second position\n",
        "TEXT_TUPL2=(text.split())\n",
        "print(TEXT_TUPL2)"
      ],
      "metadata": {
        "colab": {
          "base_uri": "https://localhost:8080/"
        },
        "id": "h_vJSKdiTlmE",
        "outputId": "21717860-3a98-4aae-8d90-ebd0f4d6dc72"
      },
      "execution_count": 13,
      "outputs": [
        {
          "output_type": "stream",
          "name": "stdout",
          "text": [
            "['Momin', 'Naofil', 'Ahmad']\n"
          ]
        }
      ]
    },
    {
      "cell_type": "code",
      "source": [
        "T7=[1,2,3,4,5] #is a list\n",
        "T8=tuple(T7)\n",
        "print(T8)"
      ],
      "metadata": {
        "colab": {
          "base_uri": "https://localhost:8080/"
        },
        "id": "71UJO4CXT6Ap",
        "outputId": "d3d9cdd8-dde8-4859-9def-fe5566c2c2a2"
      },
      "execution_count": 14,
      "outputs": [
        {
          "output_type": "stream",
          "name": "stdout",
          "text": [
            "(1, 2, 3, 4, 5)\n"
          ]
        }
      ]
    },
    {
      "cell_type": "markdown",
      "source": [
        "**INDEXING**"
      ],
      "metadata": {
        "id": "uWDqYcxdUaTN"
      }
    },
    {
      "cell_type": "code",
      "source": [
        "T8[0] #first item"
      ],
      "metadata": {
        "colab": {
          "base_uri": "https://localhost:8080/"
        },
        "id": "NN8smkrIUX59",
        "outputId": "4e215c37-453a-4897-8817-ce5c18bb6521"
      },
      "execution_count": 15,
      "outputs": [
        {
          "output_type": "execute_result",
          "data": {
            "text/plain": [
              "1"
            ]
          },
          "metadata": {},
          "execution_count": 15
        }
      ]
    },
    {
      "cell_type": "code",
      "source": [
        "T8[:4] #From start to 3rd index 4th position"
      ],
      "metadata": {
        "colab": {
          "base_uri": "https://localhost:8080/"
        },
        "id": "4eKnNUzTUdYe",
        "outputId": "a155a837-1744-4cc1-e0c5-4d04ec55b716"
      },
      "execution_count": 16,
      "outputs": [
        {
          "output_type": "execute_result",
          "data": {
            "text/plain": [
              "(1, 2, 3, 4)"
            ]
          },
          "metadata": {},
          "execution_count": 16
        }
      ]
    },
    {
      "cell_type": "code",
      "source": [
        "T8[::-1] #for reverse order"
      ],
      "metadata": {
        "colab": {
          "base_uri": "https://localhost:8080/"
        },
        "id": "B6rPCAtlUe9X",
        "outputId": "bf7db590-3da2-4c41-fb01-1df66a678ad0"
      },
      "execution_count": 17,
      "outputs": [
        {
          "output_type": "execute_result",
          "data": {
            "text/plain": [
              "(5, 4, 3, 2, 1)"
            ]
          },
          "metadata": {},
          "execution_count": 17
        }
      ]
    },
    {
      "cell_type": "markdown",
      "source": [
        "Primary Difference is <br>\n",
        "Editing is Not allow in Tuple<br>\n",
        "Where as List allows Editing<br>\n",
        "Tuple Immutable <br> List are Mutable"
      ],
      "metadata": {
        "id": "PKpNeKHoUvKC"
      }
    },
    {
      "cell_type": "code",
      "source": [
        "#NO EDITING DELETING ITEMS"
      ],
      "metadata": {
        "id": "uT2ot3alUgeX"
      },
      "execution_count": null,
      "outputs": []
    },
    {
      "cell_type": "code",
      "source": [
        "#we can delete tuple\n",
        "del T8"
      ],
      "metadata": {
        "id": "fxuiyTwRb34b"
      },
      "execution_count": 18,
      "outputs": []
    },
    {
      "cell_type": "markdown",
      "source": [
        "**Operations in Tuple**"
      ],
      "metadata": {
        "id": "RqosadGlcUce"
      }
    },
    {
      "cell_type": "code",
      "source": [
        "T7"
      ],
      "metadata": {
        "colab": {
          "base_uri": "https://localhost:8080/"
        },
        "id": "pMED_sNdcLvy",
        "outputId": "8657f732-510e-45ed-8520-a06b81d7f47d"
      },
      "execution_count": 19,
      "outputs": [
        {
          "output_type": "execute_result",
          "data": {
            "text/plain": [
              "[1, 2, 3, 4, 5]"
            ]
          },
          "metadata": {},
          "execution_count": 19
        }
      ]
    },
    {
      "cell_type": "code",
      "source": [
        "T6"
      ],
      "metadata": {
        "colab": {
          "base_uri": "https://localhost:8080/"
        },
        "id": "qXaaVGwUcXuh",
        "outputId": "8393c799-eaa0-485f-880a-83b32e7d7f96"
      },
      "execution_count": 20,
      "outputs": [
        {
          "output_type": "execute_result",
          "data": {
            "text/plain": [
              "('S', 'i', 'n', 'g', 'l', 'e', ' ', 'L', 'e', 't', 't', 'e', 'r')"
            ]
          },
          "metadata": {},
          "execution_count": 20
        }
      ]
    },
    {
      "cell_type": "code",
      "source": [
        "T9=[1,2,3,4,5]"
      ],
      "metadata": {
        "id": "ibwkHm6PcZLj"
      },
      "execution_count": 21,
      "outputs": []
    },
    {
      "cell_type": "code",
      "source": [
        "T7+T9 #Concatination like List using +"
      ],
      "metadata": {
        "colab": {
          "base_uri": "https://localhost:8080/"
        },
        "id": "AV-hGSB5cdeD",
        "outputId": "8fe70a5a-6095-4f9e-fc18-8ed88ae3306f"
      },
      "execution_count": 22,
      "outputs": [
        {
          "output_type": "execute_result",
          "data": {
            "text/plain": [
              "[1, 2, 3, 4, 5, 1, 2, 3, 4, 5]"
            ]
          },
          "metadata": {},
          "execution_count": 22
        }
      ]
    },
    {
      "cell_type": "code",
      "source": [
        "T7 *2 #Scalar Repitation"
      ],
      "metadata": {
        "colab": {
          "base_uri": "https://localhost:8080/"
        },
        "id": "Yfz402ybcfeQ",
        "outputId": "5cacfbf3-667c-47cb-967c-572f1a13a7f6"
      },
      "execution_count": 23,
      "outputs": [
        {
          "output_type": "execute_result",
          "data": {
            "text/plain": [
              "[1, 2, 3, 4, 5, 1, 2, 3, 4, 5]"
            ]
          },
          "metadata": {},
          "execution_count": 23
        }
      ]
    },
    {
      "cell_type": "code",
      "source": [],
      "metadata": {
        "id": "X5OGQroYclRs"
      },
      "execution_count": null,
      "outputs": []
    },
    {
      "cell_type": "markdown",
      "source": [
        "**Iteration in Tuple**"
      ],
      "metadata": {
        "id": "rjCtdNuTcs_z"
      }
    },
    {
      "cell_type": "code",
      "source": [
        "for i in T7:\n",
        "    print(i)"
      ],
      "metadata": {
        "colab": {
          "base_uri": "https://localhost:8080/"
        },
        "id": "6N3HJW58cqjO",
        "outputId": "8dfca53f-6127-4c82-ef34-d5b56a8991e9"
      },
      "execution_count": 24,
      "outputs": [
        {
          "output_type": "stream",
          "name": "stdout",
          "text": [
            "1\n",
            "2\n",
            "3\n",
            "4\n",
            "5\n"
          ]
        }
      ]
    },
    {
      "cell_type": "markdown",
      "source": [
        "**multi dimensional Tuple Iteration**"
      ],
      "metadata": {
        "id": "dpdbNszocsLL"
      }
    },
    {
      "cell_type": "code",
      "source": [
        "T10=tuple([[1,2,3],[4,5,6],[7,8,9]])\n",
        "print(T10)\n",
        "print(type(T10))"
      ],
      "metadata": {
        "colab": {
          "base_uri": "https://localhost:8080/"
        },
        "id": "5Trlmx3Ec-6U",
        "outputId": "c9313e87-919e-4c22-cd26-6925710dd5b6"
      },
      "execution_count": 25,
      "outputs": [
        {
          "output_type": "stream",
          "name": "stdout",
          "text": [
            "([1, 2, 3], [4, 5, 6], [7, 8, 9])\n",
            "<class 'tuple'>\n"
          ]
        }
      ]
    },
    {
      "cell_type": "markdown",
      "source": [
        "**More Functions**"
      ],
      "metadata": {
        "id": "LqMZIUBcdty1"
      }
    },
    {
      "cell_type": "code",
      "source": [
        "T7"
      ],
      "metadata": {
        "colab": {
          "base_uri": "https://localhost:8080/"
        },
        "id": "e5y33bYnc_EF",
        "outputId": "244055c5-8f30-4c35-e396-ea84a368878e"
      },
      "execution_count": 26,
      "outputs": [
        {
          "output_type": "execute_result",
          "data": {
            "text/plain": [
              "[1, 2, 3, 4, 5]"
            ]
          },
          "metadata": {},
          "execution_count": 26
        }
      ]
    },
    {
      "cell_type": "code",
      "source": [
        "len(T7)"
      ],
      "metadata": {
        "colab": {
          "base_uri": "https://localhost:8080/"
        },
        "id": "uI0n1Aatc_GW",
        "outputId": "ce670585-aeb0-4ba8-b541-22072fcfa099"
      },
      "execution_count": 27,
      "outputs": [
        {
          "output_type": "execute_result",
          "data": {
            "text/plain": [
              "5"
            ]
          },
          "metadata": {},
          "execution_count": 27
        }
      ]
    },
    {
      "cell_type": "code",
      "source": [
        "max(T7)"
      ],
      "metadata": {
        "colab": {
          "base_uri": "https://localhost:8080/"
        },
        "id": "3j8yrQB-c_Ka",
        "outputId": "d54def8f-03c7-4dda-de1c-dda8ba9b845a"
      },
      "execution_count": 28,
      "outputs": [
        {
          "output_type": "execute_result",
          "data": {
            "text/plain": [
              "5"
            ]
          },
          "metadata": {},
          "execution_count": 28
        }
      ]
    },
    {
      "cell_type": "code",
      "source": [
        "min(T7)"
      ],
      "metadata": {
        "colab": {
          "base_uri": "https://localhost:8080/"
        },
        "id": "_nFNE9bsdz-6",
        "outputId": "e5562426-c062-48b6-b14d-d47720640ba8"
      },
      "execution_count": 29,
      "outputs": [
        {
          "output_type": "execute_result",
          "data": {
            "text/plain": [
              "1"
            ]
          },
          "metadata": {},
          "execution_count": 29
        }
      ]
    },
    {
      "cell_type": "code",
      "source": [
        "sorted(T7)"
      ],
      "metadata": {
        "colab": {
          "base_uri": "https://localhost:8080/"
        },
        "id": "4hl9iQs8d0Ew",
        "outputId": "46615685-5d1d-4b2f-e45a-dcdd8e60b4f6"
      },
      "execution_count": 30,
      "outputs": [
        {
          "output_type": "execute_result",
          "data": {
            "text/plain": [
              "[1, 2, 3, 4, 5]"
            ]
          },
          "metadata": {},
          "execution_count": 30
        }
      ]
    },
    {
      "cell_type": "code",
      "source": [
        "sorted(T7,reverse=True)"
      ],
      "metadata": {
        "colab": {
          "base_uri": "https://localhost:8080/"
        },
        "id": "9zm5RZdld7pU",
        "outputId": "03c9ea61-4a95-41e4-92bd-c276d7f758e5"
      },
      "execution_count": 31,
      "outputs": [
        {
          "output_type": "execute_result",
          "data": {
            "text/plain": [
              "[5, 4, 3, 2, 1]"
            ]
          },
          "metadata": {},
          "execution_count": 31
        }
      ]
    },
    {
      "cell_type": "code",
      "source": [
        "sum(T7)"
      ],
      "metadata": {
        "colab": {
          "base_uri": "https://localhost:8080/"
        },
        "id": "mZ63GPyAd7vD",
        "outputId": "cc1a6558-f254-40ae-82dc-5ce4ed66615a"
      },
      "execution_count": 32,
      "outputs": [
        {
          "output_type": "execute_result",
          "data": {
            "text/plain": [
              "15"
            ]
          },
          "metadata": {},
          "execution_count": 32
        }
      ]
    },
    {
      "cell_type": "code",
      "source": [
        "#Tuples are Read Only Data Type\n",
        "#SO tuples has only readonly data functionality"
      ],
      "metadata": {
        "id": "rO8VGlxXd70e"
      },
      "execution_count": 36,
      "outputs": []
    },
    {
      "cell_type": "code",
      "source": [
        "#Ex- Result from Server can be seen but not modified\n",
        "#Ex- When Data Intergrity matters"
      ],
      "metadata": {
        "id": "cyegiYssd0KE"
      },
      "execution_count": null,
      "outputs": []
    },
    {
      "cell_type": "code",
      "source": [],
      "metadata": {
        "id": "FsObJlmsd0Pj"
      },
      "execution_count": null,
      "outputs": []
    }
  ]
}