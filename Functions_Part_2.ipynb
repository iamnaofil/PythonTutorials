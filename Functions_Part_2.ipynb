{
  "nbformat": 4,
  "nbformat_minor": 0,
  "metadata": {
    "colab": {
      "provenance": [],
      "authorship_tag": "ABX9TyOVQ222WVe8eYNbg+12o+tl",
      "include_colab_link": true
    },
    "kernelspec": {
      "name": "python3",
      "display_name": "Python 3"
    },
    "language_info": {
      "name": "python"
    }
  },
  "cells": [
    {
      "cell_type": "markdown",
      "metadata": {
        "id": "view-in-github",
        "colab_type": "text"
      },
      "source": [
        "<a href=\"https://colab.research.google.com/github/iamnaofil/PythonTutorials/blob/main/Functions_Part_2.ipynb\" target=\"_parent\"><img src=\"https://colab.research.google.com/assets/colab-badge.svg\" alt=\"Open In Colab\"/></a>"
      ]
    },
    {
      "cell_type": "markdown",
      "source": [
        "Function have varibale that are different from golabally Declared<br>\n",
        "Fucntion is independent Code Bloc so x inside function in different and outside x is different"
      ],
      "metadata": {
        "id": "6eEMku5ZzKBJ"
      }
    },
    {
      "cell_type": "code",
      "execution_count": 1,
      "metadata": {
        "colab": {
          "base_uri": "https://localhost:8080/"
        },
        "id": "7b4dv5Xryy2J",
        "outputId": "32d4396f-1f0b-4af2-bc8c-954b1d3f743a"
      },
      "outputs": [
        {
          "output_type": "stream",
          "name": "stdout",
          "text": [
            "2\n",
            "5\n"
          ]
        }
      ],
      "source": [
        "def f(y):\n",
        "    x=1\n",
        "    x+=1\n",
        "    print(x)\n",
        "x=5\n",
        "f(x)\n",
        "print(x)"
      ]
    },
    {
      "cell_type": "code",
      "source": [
        "#PROOF\n",
        "def f(y):\n",
        "    x=1\n",
        "    x+=1\n",
        "    print(x,id(x))\n",
        "x=5\n",
        "f(x)\n",
        "print(x,id(x))"
      ],
      "metadata": {
        "colab": {
          "base_uri": "https://localhost:8080/"
        },
        "id": "SnRJphtqzDbB",
        "outputId": "64a0d328-3d95-4586-99af-60bf01eb279b"
      },
      "execution_count": 2,
      "outputs": [
        {
          "output_type": "stream",
          "name": "stdout",
          "text": [
            "2 137279539724560\n",
            "5 137279539724656\n"
          ]
        }
      ]
    },
    {
      "cell_type": "code",
      "source": [
        "#PROOF\n",
        "def f(y):\n",
        "    x=1\n",
        "    x+=1\n",
        "    print(x,id(x)) #Same\n",
        "    print(x,id(x)) #Same\n",
        "    x+=2\n",
        "    print(x,id(x)) #Another Location Added\n",
        "x=5\n",
        "f(x)\n",
        "print(x,id(x))"
      ],
      "metadata": {
        "colab": {
          "base_uri": "https://localhost:8080/"
        },
        "id": "H6FFaS3azrLw",
        "outputId": "b3952a2c-cd16-4487-8208-45a2b189e985"
      },
      "execution_count": 4,
      "outputs": [
        {
          "output_type": "stream",
          "name": "stdout",
          "text": [
            "2 137279539724560\n",
            "2 137279539724560\n",
            "4 137279539724624\n",
            "5 137279539724656\n"
          ]
        }
      ]
    },
    {
      "cell_type": "markdown",
      "source": [
        "**Global Variable:** Which is declared in Main Program / Outside of Function.<br>\n",
        "**Local Variable:** Which is declared inside any function"
      ],
      "metadata": {
        "id": "nh12Wv290AjG"
      }
    },
    {
      "cell_type": "code",
      "source": [
        "def g(y):\n",
        "    print(x) #See here , I didnt create any x\n",
        "    print(x+1)\n",
        "x=5 #Here x is global variable thats why it is accessible in g function\n",
        "g(x)\n",
        "print(x)"
      ],
      "metadata": {
        "colab": {
          "base_uri": "https://localhost:8080/"
        },
        "id": "l1J-GslyzrTS",
        "outputId": "410b5810-1dc1-47ba-9d03-8491f2d07a80"
      },
      "execution_count": 5,
      "outputs": [
        {
          "output_type": "stream",
          "name": "stdout",
          "text": [
            "5\n",
            "6\n",
            "5\n"
          ]
        }
      ]
    },
    {
      "cell_type": "code",
      "source": [
        "#Here x=5 is global variable,\n",
        "#Now If you want to change"
      ],
      "metadata": {
        "id": "eAlohXCLzrZm"
      },
      "execution_count": null,
      "outputs": []
    },
    {
      "cell_type": "code",
      "source": [
        "def h(y):\n",
        "    x+=1 #This is not Allowed to chnage Global Variable from any Function\n",
        "x=5\n",
        "h(x)\n",
        "print(x)"
      ],
      "metadata": {
        "colab": {
          "base_uri": "https://localhost:8080/",
          "height": 349
        },
        "id": "nlN5XRkzzmJq",
        "outputId": "ff713165-1651-4b49-c7c2-58371770b329"
      },
      "execution_count": 7,
      "outputs": [
        {
          "output_type": "error",
          "ename": "UnboundLocalError",
          "evalue": "ignored",
          "traceback": [
            "\u001b[0;31m---------------------------------------------------------------------------\u001b[0m",
            "\u001b[0;31mUnboundLocalError\u001b[0m                         Traceback (most recent call last)",
            "\u001b[0;32m<ipython-input-7-ac436f2b1e02>\u001b[0m in \u001b[0;36m<cell line: 4>\u001b[0;34m()\u001b[0m\n\u001b[1;32m      2\u001b[0m     \u001b[0mx\u001b[0m\u001b[0;34m+=\u001b[0m\u001b[0;36m1\u001b[0m\u001b[0;34m\u001b[0m\u001b[0;34m\u001b[0m\u001b[0m\n\u001b[1;32m      3\u001b[0m \u001b[0mx\u001b[0m\u001b[0;34m=\u001b[0m\u001b[0;36m5\u001b[0m\u001b[0;34m\u001b[0m\u001b[0;34m\u001b[0m\u001b[0m\n\u001b[0;32m----> 4\u001b[0;31m \u001b[0mh\u001b[0m\u001b[0;34m(\u001b[0m\u001b[0mx\u001b[0m\u001b[0;34m)\u001b[0m\u001b[0;34m\u001b[0m\u001b[0;34m\u001b[0m\u001b[0m\n\u001b[0m\u001b[1;32m      5\u001b[0m \u001b[0mprint\u001b[0m\u001b[0;34m(\u001b[0m\u001b[0mx\u001b[0m\u001b[0;34m)\u001b[0m\u001b[0;34m\u001b[0m\u001b[0;34m\u001b[0m\u001b[0m\n",
            "\u001b[0;32m<ipython-input-7-ac436f2b1e02>\u001b[0m in \u001b[0;36mh\u001b[0;34m(y)\u001b[0m\n\u001b[1;32m      1\u001b[0m \u001b[0;32mdef\u001b[0m \u001b[0mh\u001b[0m\u001b[0;34m(\u001b[0m\u001b[0my\u001b[0m\u001b[0;34m)\u001b[0m\u001b[0;34m:\u001b[0m\u001b[0;34m\u001b[0m\u001b[0;34m\u001b[0m\u001b[0m\n\u001b[0;32m----> 2\u001b[0;31m     \u001b[0mx\u001b[0m\u001b[0;34m+=\u001b[0m\u001b[0;36m1\u001b[0m\u001b[0;34m\u001b[0m\u001b[0;34m\u001b[0m\u001b[0m\n\u001b[0m\u001b[1;32m      3\u001b[0m \u001b[0mx\u001b[0m\u001b[0;34m=\u001b[0m\u001b[0;36m5\u001b[0m\u001b[0;34m\u001b[0m\u001b[0;34m\u001b[0m\u001b[0m\n\u001b[1;32m      4\u001b[0m \u001b[0mh\u001b[0m\u001b[0;34m(\u001b[0m\u001b[0mx\u001b[0m\u001b[0;34m)\u001b[0m\u001b[0;34m\u001b[0m\u001b[0;34m\u001b[0m\u001b[0m\n\u001b[1;32m      5\u001b[0m \u001b[0mprint\u001b[0m\u001b[0;34m(\u001b[0m\u001b[0mx\u001b[0m\u001b[0;34m)\u001b[0m\u001b[0;34m\u001b[0m\u001b[0;34m\u001b[0m\u001b[0m\n",
            "\u001b[0;31mUnboundLocalError\u001b[0m: local variable 'x' referenced before assignment"
          ]
        }
      ]
    },
    {
      "cell_type": "markdown",
      "source": [
        "**Here is Concept:**<br> Change Global from function"
      ],
      "metadata": {
        "id": "vcHi6raY3YIa"
      }
    },
    {
      "cell_type": "code",
      "source": [
        "def h(y):\n",
        "    global x #Now with Gloabl Keyword : we can change global variable\n",
        "    x+=1 #But we shloud not change, not frequenlty\n",
        "    print(x)\n",
        "x=5\n",
        "h(x)\n",
        "print(x)"
      ],
      "metadata": {
        "colab": {
          "base_uri": "https://localhost:8080/"
        },
        "id": "Al6o1jEW2xYA",
        "outputId": "e8351b94-22b5-4a84-fcea-d1759853080c"
      },
      "execution_count": 9,
      "outputs": [
        {
          "output_type": "stream",
          "name": "stdout",
          "text": [
            "6\n",
            "6\n"
          ]
        }
      ]
    },
    {
      "cell_type": "code",
      "source": [
        "def f(x):\n",
        "    x=x+1\n",
        "    print('in f(x) : x = ',x)\n",
        "    return x\n",
        "x=5\n",
        "z=f(x)\n",
        "print('in main code : z = ',z)\n",
        "print('in main code : x = ',x)\n"
      ],
      "metadata": {
        "colab": {
          "base_uri": "https://localhost:8080/"
        },
        "id": "oJ2OYwLg3Glb",
        "outputId": "5def0fc1-e10e-46ef-e047-1afb564ac6cf"
      },
      "execution_count": 11,
      "outputs": [
        {
          "output_type": "stream",
          "name": "stdout",
          "text": [
            "in f(x) : x =  6\n",
            "in main code : z =  6\n",
            "in main code : x =  5\n"
          ]
        }
      ]
    },
    {
      "cell_type": "code",
      "source": [
        "#Now Lets Take Another Example\n",
        "def f():\n",
        "    print('Inside f()')\n",
        "    def g():\n",
        "        print('Inside g()')\n",
        "    g()"
      ],
      "metadata": {
        "id": "mUhXrhs-36Iz"
      },
      "execution_count": 12,
      "outputs": []
    },
    {
      "cell_type": "code",
      "source": [
        "f() #But when you run g()"
      ],
      "metadata": {
        "colab": {
          "base_uri": "https://localhost:8080/"
        },
        "id": "xbqmy0By4lRQ",
        "outputId": "4454b0e7-1cfb-4475-dc55-5ae17e648127"
      },
      "execution_count": 14,
      "outputs": [
        {
          "output_type": "stream",
          "name": "stdout",
          "text": [
            "Inside f()\n",
            "Inside g()\n"
          ]
        }
      ]
    },
    {
      "cell_type": "code",
      "source": [
        "#Concept is INNER FUNCTION is Hidden/ Abstracted from Outerfunction\n",
        "#So Some Programmer use moslty inner function to hide actual code"
      ],
      "metadata": {
        "id": "r88qQoNV4mcM"
      },
      "execution_count": null,
      "outputs": []
    },
    {
      "cell_type": "code",
      "source": [
        "#THINK WHAT WOULD HAPPEND\n",
        "#Now Lets Take Another Example\n",
        "#If you pass f() inside g()\n",
        "def f():\n",
        "    print('Inside f()')\n",
        "    def g():\n",
        "        print('Inside g()')\n",
        "    #f() #Here It Will Go Infinte Loop"
      ],
      "metadata": {
        "id": "zlLDL5x-5Drj"
      },
      "execution_count": null,
      "outputs": []
    },
    {
      "cell_type": "code",
      "source": [
        "#Take Last Example\n",
        "def g(x):\n",
        "    def h():\n",
        "        x='abc'\n",
        "    x+=1\n",
        "    print('in g(x) : x = ',x)\n",
        "    h()\n",
        "    return h()\n",
        "x=3\n",
        "z=g(x)\n",
        "print('in main program z = ',z) #h mein to return hai hi  nahi so None\n",
        "print('in main program x = ',x)"
      ],
      "metadata": {
        "colab": {
          "base_uri": "https://localhost:8080/"
        },
        "id": "MiDg0pIk5MLu",
        "outputId": "09f59613-e80b-43af-8cb9-962da4cb1858"
      },
      "execution_count": 17,
      "outputs": [
        {
          "output_type": "stream",
          "name": "stdout",
          "text": [
            "in g(x) : x =  4\n",
            "in main program z =  None\n",
            "in main program x =  3\n"
          ]
        }
      ]
    },
    {
      "cell_type": "code",
      "source": [
        "def g(x):\n",
        "    def h(x):\n",
        "        x=x+1\n",
        "        print('in h()',x)\n",
        "    x=x+1\n",
        "    print('in g(y)',x)\n",
        "    h(x)\n",
        "    return x\n",
        "x=4\n",
        "z=g(x)\n",
        "print('inside program x :',x)\n",
        "print('inside program z :',z)"
      ],
      "metadata": {
        "id": "pf97z9gC6Qf5",
        "colab": {
          "base_uri": "https://localhost:8080/"
        },
        "outputId": "2edae3a9-3d2b-453d-e745-ffe2c52d1474"
      },
      "execution_count": 26,
      "outputs": [
        {
          "output_type": "stream",
          "name": "stdout",
          "text": [
            "in g(y) 5\n",
            "in h() 6\n",
            "inside program x : 4\n",
            "inside program z : 5\n"
          ]
        }
      ]
    },
    {
      "cell_type": "code",
      "source": [
        ""
      ],
      "metadata": {
        "id": "uYGipD2o6OkD"
      },
      "execution_count": 15,
      "outputs": []
    },
    {
      "cell_type": "code",
      "source": [],
      "metadata": {
        "id": "RDMOeOBd6O7o"
      },
      "execution_count": 15,
      "outputs": []
    },
    {
      "cell_type": "code",
      "source": [],
      "metadata": {
        "id": "UllznTpW6PNB"
      },
      "execution_count": 15,
      "outputs": []
    },
    {
      "cell_type": "code",
      "source": [],
      "metadata": {
        "id": "sLuhmbFT6PWG"
      },
      "execution_count": null,
      "outputs": []
    },
    {
      "cell_type": "code",
      "source": [],
      "metadata": {
        "id": "zjGUdwQ35MQ9"
      },
      "execution_count": null,
      "outputs": []
    },
    {
      "cell_type": "code",
      "source": [],
      "metadata": {
        "id": "3UFWWmcH5MZr"
      },
      "execution_count": null,
      "outputs": []
    },
    {
      "cell_type": "code",
      "source": [],
      "metadata": {
        "id": "--uDkfHX5Mdr"
      },
      "execution_count": null,
      "outputs": []
    },
    {
      "cell_type": "code",
      "source": [],
      "metadata": {
        "id": "QM2LnnLG5MkH"
      },
      "execution_count": null,
      "outputs": []
    },
    {
      "cell_type": "code",
      "source": [],
      "metadata": {
        "id": "Tbe2b5DP5MpD"
      },
      "execution_count": null,
      "outputs": []
    },
    {
      "cell_type": "code",
      "source": [],
      "metadata": {
        "id": "y3mpOcR75Muf"
      },
      "execution_count": null,
      "outputs": []
    },
    {
      "cell_type": "code",
      "source": [],
      "metadata": {
        "id": "WSKJHMiH5Mxq"
      },
      "execution_count": null,
      "outputs": []
    },
    {
      "cell_type": "code",
      "source": [],
      "metadata": {
        "id": "MgljICjH5Dxs"
      },
      "execution_count": null,
      "outputs": []
    },
    {
      "cell_type": "code",
      "source": [],
      "metadata": {
        "id": "1ZmrpCiD5D4I"
      },
      "execution_count": null,
      "outputs": []
    }
  ]
}