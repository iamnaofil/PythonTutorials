{
  "nbformat": 4,
  "nbformat_minor": 0,
  "metadata": {
    "colab": {
      "provenance": [],
      "authorship_tag": "ABX9TyMJf7MhrQ57rh/YcCpOdYZ1",
      "include_colab_link": true
    },
    "kernelspec": {
      "name": "python3",
      "display_name": "Python 3"
    },
    "language_info": {
      "name": "python"
    }
  },
  "cells": [
    {
      "cell_type": "markdown",
      "metadata": {
        "id": "view-in-github",
        "colab_type": "text"
      },
      "source": [
        "<a href=\"https://colab.research.google.com/github/iamnaofil/PythonTutorials/blob/main/Variable_and_Memory.ipynb\" target=\"_parent\"><img src=\"https://colab.research.google.com/assets/colab-badge.svg\" alt=\"Open In Colab\"/></a>"
      ]
    },
    {
      "cell_type": "markdown",
      "source": [
        "#**Mutability | Garbage Collection | Variable Refrencing**"
      ],
      "metadata": {
        "id": "3EjB6GmYTGMm"
      }
    },
    {
      "cell_type": "code",
      "execution_count": 2,
      "metadata": {
        "id": "e5Uz00coSO_T"
      },
      "outputs": [],
      "source": [
        "a=4 #Memory Allocate in ROM When Run"
      ]
    },
    {
      "cell_type": "code",
      "source": [
        "#It will Goes to RAM to allocate memory in RAM"
      ],
      "metadata": {
        "id": "4zpGQthASQbr"
      },
      "execution_count": null,
      "outputs": []
    },
    {
      "cell_type": "code",
      "source": [
        "#Running inside RAM\n",
        "#RAM is Volatile so it clear alls"
      ],
      "metadata": {
        "id": "qEc8HVz_SQh5"
      },
      "execution_count": null,
      "outputs": []
    },
    {
      "cell_type": "code",
      "source": [
        "#In RAM we have Registers component (Diod > Logic Gates > FlipFlop )"
      ],
      "metadata": {
        "id": "TnBlQ78RSQn5"
      },
      "execution_count": null,
      "outputs": []
    },
    {
      "cell_type": "code",
      "source": [
        "#In Register the orignal vlaue is stored associate with its memory location"
      ],
      "metadata": {
        "id": "YWGwkeo0SQuR"
      },
      "execution_count": null,
      "outputs": []
    },
    {
      "cell_type": "code",
      "source": [
        "#0x1000 is Memory location storing 4 as 0100"
      ],
      "metadata": {
        "id": "yvHW2x2SSQ0h"
      },
      "execution_count": null,
      "outputs": []
    },
    {
      "cell_type": "code",
      "source": [
        "a #Python calls Variable as name, If it is defined so"
      ],
      "metadata": {
        "colab": {
          "base_uri": "https://localhost:8080/"
        },
        "id": "7QyRjlmXSQ6Y",
        "outputId": "c0a3d17f-8664-43ad-d9fd-24113643ef33"
      },
      "execution_count": 3,
      "outputs": [
        {
          "output_type": "execute_result",
          "data": {
            "text/plain": [
              "4"
            ]
          },
          "metadata": {},
          "execution_count": 3
        }
      ]
    },
    {
      "cell_type": "code",
      "source": [
        "id(a)"
      ],
      "metadata": {
        "colab": {
          "base_uri": "https://localhost:8080/"
        },
        "id": "_rOd1WDwTjHS",
        "outputId": "c6c713e3-c7e4-4293-8ce7-e521661a65a9"
      },
      "execution_count": 4,
      "outputs": [
        {
          "output_type": "execute_result",
          "data": {
            "text/plain": [
              "133319874314576"
            ]
          },
          "metadata": {},
          "execution_count": 4
        }
      ]
    },
    {
      "cell_type": "code",
      "source": [
        "hex(133319874314576)"
      ],
      "metadata": {
        "colab": {
          "base_uri": "https://localhost:8080/",
          "height": 36
        },
        "id": "J9a26K7BTtFy",
        "outputId": "358d9277-4022-4e03-8c98-24be22670177"
      },
      "execution_count": 5,
      "outputs": [
        {
          "output_type": "execute_result",
          "data": {
            "text/plain": [
              "'0x7940f3c00150'"
            ],
            "application/vnd.google.colaboratory.intrinsic+json": {
              "type": "string"
            }
          },
          "metadata": {},
          "execution_count": 5
        }
      ]
    },
    {
      "cell_type": "code",
      "source": [
        "#Now\n",
        "id(4)"
      ],
      "metadata": {
        "colab": {
          "base_uri": "https://localhost:8080/"
        },
        "id": "1LoRq192T04q",
        "outputId": "013635ed-efc2-4261-ef65-4fab18768ce8"
      },
      "execution_count": 6,
      "outputs": [
        {
          "output_type": "execute_result",
          "data": {
            "text/plain": [
              "133319874314576"
            ]
          },
          "metadata": {},
          "execution_count": 6
        }
      ]
    },
    {
      "cell_type": "code",
      "source": [
        "hex(133319874314576)"
      ],
      "metadata": {
        "colab": {
          "base_uri": "https://localhost:8080/",
          "height": 36
        },
        "id": "y1RcwRHZT3jC",
        "outputId": "0b40352c-990c-49c8-84d1-517675601b5f"
      },
      "execution_count": 7,
      "outputs": [
        {
          "output_type": "execute_result",
          "data": {
            "text/plain": [
              "'0x7940f3c00150'"
            ],
            "application/vnd.google.colaboratory.intrinsic+json": {
              "type": "string"
            }
          },
          "metadata": {},
          "execution_count": 7
        }
      ]
    },
    {
      "cell_type": "code",
      "source": [
        "#Both Are Same Memory Location Thats why a Name Assign to 4"
      ],
      "metadata": {
        "id": "6YCxbGotT8I6"
      },
      "execution_count": null,
      "outputs": []
    },
    {
      "cell_type": "markdown",
      "source": [
        "**It is called as 'Call By Object Reference'**\n",
        "Because In Python Everything is Object and we are calling actual 4 to its created object a as memory reference\n"
      ],
      "metadata": {
        "id": "OCZ8u-taUMxn"
      }
    },
    {
      "cell_type": "code",
      "source": [],
      "metadata": {
        "id": "_KCMqQM8UdGm"
      },
      "execution_count": null,
      "outputs": []
    },
    {
      "cell_type": "markdown",
      "source": [
        "**What is Aliasing ( giving a nick name to object)**"
      ],
      "metadata": {
        "id": "iJjWGqiiUfc3"
      }
    },
    {
      "cell_type": "code",
      "source": [
        "b=a #b pointing same memory location of what 4 is placed"
      ],
      "metadata": {
        "id": "TO34T1ieUdJW"
      },
      "execution_count": 8,
      "outputs": []
    },
    {
      "cell_type": "code",
      "source": [
        "b"
      ],
      "metadata": {
        "colab": {
          "base_uri": "https://localhost:8080/"
        },
        "id": "leYotcN_UdLe",
        "outputId": "6b7b1f72-f486-4fdc-8139-4c0349959b07"
      },
      "execution_count": 9,
      "outputs": [
        {
          "output_type": "execute_result",
          "data": {
            "text/plain": [
              "4"
            ]
          },
          "metadata": {},
          "execution_count": 9
        }
      ]
    },
    {
      "cell_type": "code",
      "source": [
        "id(b)"
      ],
      "metadata": {
        "colab": {
          "base_uri": "https://localhost:8080/"
        },
        "id": "sXv2hp5yUdSu",
        "outputId": "fb6402eb-9b21-4f9c-f234-12a1d160ca3f"
      },
      "execution_count": 10,
      "outputs": [
        {
          "output_type": "execute_result",
          "data": {
            "text/plain": [
              "133319874314576"
            ]
          },
          "metadata": {},
          "execution_count": 10
        }
      ]
    },
    {
      "cell_type": "code",
      "source": [
        "hex(133319874314576)"
      ],
      "metadata": {
        "colab": {
          "base_uri": "https://localhost:8080/",
          "height": 36
        },
        "id": "5bbRmabxUdV2",
        "outputId": "27708287-9f96-4c95-da28-68a128a1bbbe"
      },
      "execution_count": 11,
      "outputs": [
        {
          "output_type": "execute_result",
          "data": {
            "text/plain": [
              "'0x7940f3c00150'"
            ],
            "application/vnd.google.colaboratory.intrinsic+json": {
              "type": "string"
            }
          },
          "metadata": {},
          "execution_count": 11
        }
      ]
    },
    {
      "cell_type": "code",
      "source": [
        "#Now Understand b assigned to same location what a , 4 is"
      ],
      "metadata": {
        "id": "oAi1lGVcUdYH"
      },
      "execution_count": null,
      "outputs": []
    },
    {
      "cell_type": "code",
      "source": [
        "#Thin what if i delete\n",
        "del a #Is b gone or not after deleting a"
      ],
      "metadata": {
        "id": "HVeLXeavUdfX"
      },
      "execution_count": 12,
      "outputs": []
    },
    {
      "cell_type": "code",
      "source": [
        "b"
      ],
      "metadata": {
        "colab": {
          "base_uri": "https://localhost:8080/"
        },
        "id": "UmAQklRyUdhx",
        "outputId": "ee4cce3d-2720-445b-f7ce-76b8189c5fbe"
      },
      "execution_count": 13,
      "outputs": [
        {
          "output_type": "execute_result",
          "data": {
            "text/plain": [
              "4"
            ]
          },
          "metadata": {},
          "execution_count": 13
        }
      ]
    },
    {
      "cell_type": "markdown",
      "source": [
        "**Understand , del a is not deleting 4, not a, it is delting that refernce to memory location** <br>\n",
        "**but b is there as referencing to 4**"
      ],
      "metadata": {
        "id": "NYpeYOdRVFwn"
      }
    },
    {
      "cell_type": "code",
      "source": [
        "#Now What if I again assigned a with 8\n",
        "a=8"
      ],
      "metadata": {
        "id": "7ff9Eh7RUdmm"
      },
      "execution_count": 14,
      "outputs": []
    },
    {
      "cell_type": "code",
      "source": [
        "#So think what is b now,\n",
        "b"
      ],
      "metadata": {
        "colab": {
          "base_uri": "https://localhost:8080/"
        },
        "id": "zlXP9j0UUdtv",
        "outputId": "2684617b-80b3-46b6-eacb-020350069d1b"
      },
      "execution_count": 15,
      "outputs": [
        {
          "output_type": "execute_result",
          "data": {
            "text/plain": [
              "4"
            ]
          },
          "metadata": {},
          "execution_count": 15
        }
      ]
    },
    {
      "cell_type": "code",
      "source": [
        "#We create reference to 8 not replace it so b is itself there to pointing 4 s memory location"
      ],
      "metadata": {
        "id": "4wEZaq3iUdye"
      },
      "execution_count": null,
      "outputs": []
    },
    {
      "cell_type": "code",
      "source": [
        "#If you want to know memory location of Aliases Differncet Object\n",
        "a='abcdfghi' #1 2\n",
        "b=a #3 4\n",
        "\n",
        "#print(id(a),id(b),id(c),sep='\\n') #print this to know memory  location"
      ],
      "metadata": {
        "id": "_QIzsjLoUd1P"
      },
      "execution_count": 38,
      "outputs": []
    },
    {
      "cell_type": "markdown",
      "source": [
        "**getrefcount() function**"
      ],
      "metadata": {
        "id": "3XpP6JgVV08P"
      }
    },
    {
      "cell_type": "code",
      "source": [
        "import sys\n",
        "sys.getrefcount(a) 5"
      ],
      "metadata": {
        "colab": {
          "base_uri": "https://localhost:8080/"
        },
        "id": "vWikqmGhUd36",
        "outputId": "60e44ea6-762f-47cb-809b-c6e10a3ae499"
      },
      "execution_count": 39,
      "outputs": [
        {
          "output_type": "execute_result",
          "data": {
            "text/plain": [
              "5"
            ]
          },
          "metadata": {},
          "execution_count": 39
        }
      ]
    },
    {
      "cell_type": "code",
      "source": [],
      "metadata": {
        "id": "hqHfIejXUd6h"
      },
      "execution_count": null,
      "outputs": []
    },
    {
      "cell_type": "markdown",
      "source": [
        "**Garbage Collection**"
      ],
      "metadata": {
        "id": "WEJRc3SNW2Hv"
      }
    },
    {
      "cell_type": "code",
      "source": [
        "a=3\n",
        "b=3\n",
        "c=3\n"
      ],
      "metadata": {
        "id": "i6yTYYWtUd_H"
      },
      "execution_count": 40,
      "outputs": []
    },
    {
      "cell_type": "code",
      "source": [
        "print(id(a),id(b),id(c),sep='\\n') #a b c , These Object referecing to memory location of 3"
      ],
      "metadata": {
        "colab": {
          "base_uri": "https://localhost:8080/"
        },
        "id": "YmhnIMxGW8Vz",
        "outputId": "108e21f3-7e30-4ba6-8abd-e560982b08ce"
      },
      "execution_count": 41,
      "outputs": [
        {
          "output_type": "stream",
          "name": "stdout",
          "text": [
            "133319874314544\n",
            "133319874314544\n",
            "133319874314544\n"
          ]
        }
      ]
    },
    {
      "cell_type": "code",
      "source": [
        "#Now Delete a, run again\n",
        "del a\n",
        "del b\n",
        "del c"
      ],
      "metadata": {
        "colab": {
          "base_uri": "https://localhost:8080/",
          "height": 234
        },
        "id": "grqmfdWHXFNz",
        "outputId": "3375c4c8-6fd7-4738-9beb-7d911d710f19"
      },
      "execution_count": 44,
      "outputs": [
        {
          "output_type": "error",
          "ename": "NameError",
          "evalue": "ignored",
          "traceback": [
            "\u001b[0;31m---------------------------------------------------------------------------\u001b[0m",
            "\u001b[0;31mNameError\u001b[0m                                 Traceback (most recent call last)",
            "\u001b[0;32m<ipython-input-44-800e97911b33>\u001b[0m in \u001b[0;36m<cell line: 2>\u001b[0;34m()\u001b[0m\n\u001b[1;32m      1\u001b[0m \u001b[0;31m#Now Delete a\u001b[0m\u001b[0;34m\u001b[0m\u001b[0;34m\u001b[0m\u001b[0m\n\u001b[0;32m----> 2\u001b[0;31m \u001b[0;32mdel\u001b[0m \u001b[0ma\u001b[0m\u001b[0;34m\u001b[0m\u001b[0;34m\u001b[0m\u001b[0m\n\u001b[0m\u001b[1;32m      3\u001b[0m \u001b[0;32mdel\u001b[0m \u001b[0mb\u001b[0m\u001b[0;34m\u001b[0m\u001b[0;34m\u001b[0m\u001b[0m\n\u001b[1;32m      4\u001b[0m \u001b[0;32mdel\u001b[0m \u001b[0mc\u001b[0m\u001b[0;34m\u001b[0m\u001b[0;34m\u001b[0m\u001b[0m\n",
            "\u001b[0;31mNameError\u001b[0m: name 'a' is not defined"
          ]
        }
      ]
    },
    {
      "cell_type": "code",
      "source": [
        "#But three is there , we just delete reference, so\n",
        "#3 is there is some where in Memory\n"
      ],
      "metadata": {
        "id": "JniCppx2XQGz"
      },
      "execution_count": null,
      "outputs": []
    },
    {
      "cell_type": "markdown",
      "source": [
        "**Python has a Program of Garbage Collection:**\n",
        "<br>\n",
        "It searches for such memory location that is not referencing to any varibale<br>\n",
        "so it will automatically freeup that memory"
      ],
      "metadata": {
        "id": "ODgyuJgPXm4o"
      }
    },
    {
      "cell_type": "markdown",
      "source": [
        "# **@Wierd Stuff of Python**"
      ],
      "metadata": {
        "id": "QSA4f_uLYAf_"
      }
    },
    {
      "cell_type": "code",
      "source": [
        "a=2;b=a;c=b #You can see , and Think all are 2 and same variable"
      ],
      "metadata": {
        "id": "-I04gtjCYE6w"
      },
      "execution_count": 45,
      "outputs": []
    },
    {
      "cell_type": "code",
      "source": [
        "sys.getrefcount(a)  #Why its 9285 ,"
      ],
      "metadata": {
        "colab": {
          "base_uri": "https://localhost:8080/"
        },
        "id": "lZ-ilxw6YE9A",
        "outputId": "e25732ec-b7e5-499b-f0e3-3a4e1944ce7b"
      },
      "execution_count": 46,
      "outputs": [
        {
          "output_type": "execute_result",
          "data": {
            "text/plain": [
              "9285"
            ]
          },
          "metadata": {},
          "execution_count": 46
        }
      ]
    },
    {
      "cell_type": "markdown",
      "source": [
        "#Actually 2 is asuch variable which is assigned many other programs of Python,<br> Means if you take such uncommon number so there will be correct count of reference"
      ],
      "metadata": {
        "id": "mMWKPpYMYntg"
      }
    },
    {
      "cell_type": "code",
      "source": [
        "#Like\n",
        "a=729;b=a;c=b\n",
        "sys.getrefcount(a) #it should be 4 but , it may be one more reference pointing to 729 so it showing 5"
      ],
      "metadata": {
        "colab": {
          "base_uri": "https://localhost:8080/"
        },
        "id": "N90xbTv6YE_m",
        "outputId": "79bfed08-2528-4f9e-dac2-1e943c9942ab"
      },
      "execution_count": 47,
      "outputs": [
        {
          "output_type": "execute_result",
          "data": {
            "text/plain": [
              "5"
            ]
          },
          "metadata": {},
          "execution_count": 47
        }
      ]
    },
    {
      "cell_type": "code",
      "source": [
        "#Lets take more uncommon\n",
        "a=717\n",
        "b=a\n",
        "c=b\n",
        "sys.getrefcount(a)"
      ],
      "metadata": {
        "colab": {
          "base_uri": "https://localhost:8080/"
        },
        "id": "A8qYoBuAYFBx",
        "outputId": "0242e057-b193-4a47-add2-1da468d7322e"
      },
      "execution_count": 49,
      "outputs": [
        {
          "output_type": "execute_result",
          "data": {
            "text/plain": [
              "5"
            ]
          },
          "metadata": {},
          "execution_count": 49
        }
      ]
    },
    {
      "cell_type": "code",
      "source": [
        "a=717\n",
        "b=a\n",
        "c=b\n",
        "d=a\n",
        "sys.getrefcount(a) #That is Wired Behavior"
      ],
      "metadata": {
        "colab": {
          "base_uri": "https://localhost:8080/"
        },
        "id": "xd2kDC5oYFGn",
        "outputId": "f711a875-fa26-43db-9892-833c1c5f6bf7"
      },
      "execution_count": 51,
      "outputs": [
        {
          "output_type": "execute_result",
          "data": {
            "text/plain": [
              "6"
            ]
          },
          "metadata": {},
          "execution_count": 51
        }
      ]
    },
    {
      "cell_type": "code",
      "source": [
        "a=4\n",
        "b=a\n",
        "#This is called Aliasing where memory location same\n"
      ],
      "metadata": {
        "id": "TH9FpQ93ZaC7"
      },
      "execution_count": 52,
      "outputs": []
    },
    {
      "cell_type": "code",
      "source": [
        "#Where as\n",
        "a=4\n",
        "b=4\n",
        "print(id(a),id(b),sep='\\n')"
      ],
      "metadata": {
        "colab": {
          "base_uri": "https://localhost:8080/"
        },
        "id": "urgYRkSSZssU",
        "outputId": "8e9b0503-6f6b-4411-e821-7fac94a37d5e"
      },
      "execution_count": 53,
      "outputs": [
        {
          "output_type": "stream",
          "name": "stdout",
          "text": [
            "133319874314576\n",
            "133319874314576\n"
          ]
        }
      ]
    },
    {
      "cell_type": "code",
      "source": [
        "a=257\n",
        "b=257\n",
        "print(id(a),id(b),sep='\\n')"
      ],
      "metadata": {
        "colab": {
          "base_uri": "https://localhost:8080/"
        },
        "id": "Sb111ocOZxQ0",
        "outputId": "be6a1b2b-fe59-40a6-d598-d3a9c7f5904d"
      },
      "execution_count": 54,
      "outputs": [
        {
          "output_type": "stream",
          "name": "stdout",
          "text": [
            "133318510603056\n",
            "133318510608272\n"
          ]
        }
      ]
    },
    {
      "cell_type": "code",
      "source": [
        "# -5 to 256 , different id  generating\n"
      ],
      "metadata": {
        "id": "VXEr_AUlZ6x8"
      },
      "execution_count": null,
      "outputs": []
    },
    {
      "cell_type": "markdown",
      "source": [
        "The Reason is Python Optimizing"
      ],
      "metadata": {
        "id": "TGbzuX-MhE2K"
      }
    },
    {
      "cell_type": "code",
      "source": [
        "a='hindi'\n",
        "b='hindi'\n",
        "print(id(a),id(b),sep='\\n') #Memory loc will be same"
      ],
      "metadata": {
        "colab": {
          "base_uri": "https://localhost:8080/"
        },
        "id": "eFoaDFyehRGS",
        "outputId": "3b9dfb5c-0d8c-4574-d57c-74bf949117cd"
      },
      "execution_count": 55,
      "outputs": [
        {
          "output_type": "stream",
          "name": "stdout",
          "text": [
            "133318520004720\n",
            "133318520004720\n"
          ]
        }
      ]
    },
    {
      "cell_type": "code",
      "source": [
        "a='I am comming to college'\n",
        "b='I am comming to college'\n",
        "print(id(a),id(b),sep='\\n') #Different"
      ],
      "metadata": {
        "colab": {
          "base_uri": "https://localhost:8080/"
        },
        "id": "R1DHVTqEhRQK",
        "outputId": "bcf622cb-a4c8-48d1-908f-1f8d4089e17e"
      },
      "execution_count": 56,
      "outputs": [
        {
          "output_type": "stream",
          "name": "stdout",
          "text": [
            "133318508851680\n",
            "133318508986656\n"
          ]
        }
      ]
    },
    {
      "cell_type": "code",
      "source": [
        "a='I_am_comming_to_college'\n",
        "b='I_am_comming_to_college'\n",
        "print(id(a),id(b),sep='\\n') #Again Same because we used A Valid Identifier"
      ],
      "metadata": {
        "colab": {
          "base_uri": "https://localhost:8080/"
        },
        "id": "Pns6IXLThRSa",
        "outputId": "cd54db85-8500-49de-c66a-397733da5c5b"
      },
      "execution_count": 58,
      "outputs": [
        {
          "output_type": "stream",
          "name": "stdout",
          "text": [
            "133318509209728\n",
            "133318509209728\n"
          ]
        }
      ]
    },
    {
      "cell_type": "markdown",
      "source": [
        "**Mutability**"
      ],
      "metadata": {
        "id": "I7DdBzTsh8CK"
      }
    },
    {
      "cell_type": "code",
      "source": [
        "#List is mutable means modifaible"
      ],
      "metadata": {
        "id": "x37a5W9PhRby"
      },
      "execution_count": null,
      "outputs": []
    },
    {
      "cell_type": "code",
      "source": [
        "L1=[1,2,3]\n",
        "print(L1,id(L1),sep='\\n')\n"
      ],
      "metadata": {
        "colab": {
          "base_uri": "https://localhost:8080/"
        },
        "id": "ZkCbVU1jhReN",
        "outputId": "2a445f04-0f5e-4493-b549-113bc2ffdee0"
      },
      "execution_count": 60,
      "outputs": [
        {
          "output_type": "stream",
          "name": "stdout",
          "text": [
            "[1, 2, 3]\n",
            "133318509051392\n"
          ]
        }
      ]
    },
    {
      "cell_type": "code",
      "source": [
        "#Lets take 1 id\n",
        "id(1)"
      ],
      "metadata": {
        "colab": {
          "base_uri": "https://localhost:8080/"
        },
        "id": "7R6HQOKshRg2",
        "outputId": "0f1227f1-e524-411e-c2b1-8b568fd0130d"
      },
      "execution_count": 61,
      "outputs": [
        {
          "output_type": "execute_result",
          "data": {
            "text/plain": [
              "133319874314480"
            ]
          },
          "metadata": {},
          "execution_count": 61
        }
      ]
    },
    {
      "cell_type": "code",
      "source": [
        "id(L1[0])"
      ],
      "metadata": {
        "colab": {
          "base_uri": "https://localhost:8080/"
        },
        "id": "_rcn_AX3igN9",
        "outputId": "5c866b76-c0e1-4972-d49a-a74a372957b5"
      },
      "execution_count": 62,
      "outputs": [
        {
          "output_type": "execute_result",
          "data": {
            "text/plain": [
              "133319874314480"
            ]
          },
          "metadata": {},
          "execution_count": 62
        }
      ]
    },
    {
      "cell_type": "code",
      "source": [
        "#Both Are Same, mean When Decraling list, every object values has it own memory location"
      ],
      "metadata": {
        "id": "1_Kp0fFTihd1"
      },
      "execution_count": null,
      "outputs": []
    },
    {
      "cell_type": "code",
      "source": [
        "#now if I change location of 3 and point it to 1 so\n",
        "L1[2]"
      ],
      "metadata": {
        "colab": {
          "base_uri": "https://localhost:8080/"
        },
        "id": "K29vRWYvi1IW",
        "outputId": "adeedde7-3cbe-43a0-ab48-5c8fd1ac8392"
      },
      "execution_count": 63,
      "outputs": [
        {
          "output_type": "execute_result",
          "data": {
            "text/plain": [
              "3"
            ]
          },
          "metadata": {},
          "execution_count": 63
        }
      ]
    },
    {
      "cell_type": "code",
      "source": [
        "L1[2]=1\n",
        "print('list change',L1,'now list address',id(L1),'id of L1',id(1),'id of 0th Means L1 1',id(L1[0]),sep='\\n')"
      ],
      "metadata": {
        "colab": {
          "base_uri": "https://localhost:8080/"
        },
        "id": "XDiXYOE3i1QW",
        "outputId": "c2e0a3ea-6cf6-488f-dbf0-785c41f89b97"
      },
      "execution_count": 67,
      "outputs": [
        {
          "output_type": "stream",
          "name": "stdout",
          "text": [
            "list change\n",
            "[1, 2, 1]\n",
            "now list address\n",
            "133318509051392\n",
            "id of L1\n",
            "133319874314480\n",
            "id of 0th Means L1 1\n",
            "133319874314480\n"
          ]
        }
      ]
    },
    {
      "cell_type": "code",
      "source": [],
      "metadata": {
        "id": "mRIyLbm6i1W6"
      },
      "execution_count": null,
      "outputs": []
    },
    {
      "cell_type": "markdown",
      "source": [
        "**Mutable : Mutability means abitlity to change data objects in its own memory location**"
      ],
      "metadata": {
        "id": "UUoHTv7Fj0pD"
      }
    },
    {
      "cell_type": "markdown",
      "source": [
        "**Immutability means: ability to change data but not on it own memory location instead create in on another memory location**"
      ],
      "metadata": {
        "id": "XbcF-ngQkHht"
      }
    },
    {
      "cell_type": "markdown",
      "source": [
        "Mutable              \n",
        "\n",
        "---\n",
        "List <br> Dict<br>Set<br>\n",
        "\n",
        "\n",
        "```\n",
        "# These can be modifed on it own memory locations\n",
        "```\n",
        "\n",
        "Immutable\n",
        "\n",
        "---\n",
        "String<br>int<br>float<br>bool<br>complex<br>tuple\n",
        "\n",
        "\n",
        "```\n",
        "# These are not modifieable if you change your editing can happend on different memory location / by create new referencing\n",
        "```\n",
        "\n",
        "\n"
      ],
      "metadata": {
        "id": "tRLffGWLkVZk"
      }
    },
    {
      "cell_type": "code",
      "source": [
        "#Example -1\n",
        "a='Good'\n",
        "id(a)"
      ],
      "metadata": {
        "colab": {
          "base_uri": "https://localhost:8080/"
        },
        "id": "_M5q3F89i1cW",
        "outputId": "4b965e93-fffd-4a8f-a1ff-9d444a9acf00"
      },
      "execution_count": 68,
      "outputs": [
        {
          "output_type": "execute_result",
          "data": {
            "text/plain": [
              "133318509933744"
            ]
          },
          "metadata": {},
          "execution_count": 68
        }
      ]
    },
    {
      "cell_type": "code",
      "source": [
        "a=a+'morning'\n",
        "print(a,id(a),sep='\\n') #Here changes made but memory location changed"
      ],
      "metadata": {
        "colab": {
          "base_uri": "https://localhost:8080/"
        },
        "id": "zT_vpJWhi1iG",
        "outputId": "bf0b697d-b67b-4f4c-8dbd-8cb0802ee6f1"
      },
      "execution_count": 70,
      "outputs": [
        {
          "output_type": "stream",
          "name": "stdout",
          "text": [
            "Goodmorning\n",
            "133318509962928\n"
          ]
        }
      ]
    },
    {
      "cell_type": "code",
      "source": [
        "#Example -2\n",
        "tab=[1,2,3]\n",
        "id(tab)"
      ],
      "metadata": {
        "colab": {
          "base_uri": "https://localhost:8080/"
        },
        "id": "iXD1bXwwi1nm",
        "outputId": "56f62952-0de7-45e1-a1f1-b886c81e9c1d"
      },
      "execution_count": 72,
      "outputs": [
        {
          "output_type": "execute_result",
          "data": {
            "text/plain": [
              "133318508960064"
            ]
          },
          "metadata": {},
          "execution_count": 72
        }
      ]
    },
    {
      "cell_type": "code",
      "source": [
        "tab=tab+[4,5]\n",
        "print(tab,id(tab),sep='\\n')\n",
        "print(\"When I append see there will be inplace replacement\")\n",
        "t=[1,2,3]\n",
        "print(id(t))\n",
        "t.append([4,5])\n",
        "print(id(t)) #HEre see editing in SAME PLACE MEMORY LOCATION WHILE APPENDING in LIST(MUTABILITY)"
      ],
      "metadata": {
        "colab": {
          "base_uri": "https://localhost:8080/"
        },
        "id": "NXvNn5Hdi1sW",
        "outputId": "3a60dc6b-d710-4bbd-ca70-d07d29992662"
      },
      "execution_count": 84,
      "outputs": [
        {
          "output_type": "stream",
          "name": "stdout",
          "text": [
            "[1, 2, 3, 4, 5, 4, 5, 4, 5, 4, 5]\n",
            "133318509039744\n",
            "When I append see there will be inplace replacement\n",
            "133318509035648\n",
            "133318509035648\n"
          ]
        }
      ]
    },
    {
      "cell_type": "code",
      "source": [
        "print(id(tab[0]),id(tab[1]),sep='\\n') #every element has it own memory location but not chnaged,"
      ],
      "metadata": {
        "colab": {
          "base_uri": "https://localhost:8080/"
        },
        "id": "mvy5qL2Ri1x2",
        "outputId": "f252e387-5be4-43cf-d9bb-d75e4a893228"
      },
      "execution_count": 77,
      "outputs": [
        {
          "output_type": "stream",
          "name": "stdout",
          "text": [
            "133319874314480\n",
            "133319874314512\n"
          ]
        }
      ]
    },
    {
      "cell_type": "markdown",
      "source": [
        "**In Tuple**"
      ],
      "metadata": {
        "id": "X5drIE49mZMk"
      }
    },
    {
      "cell_type": "code",
      "source": [
        "a=(1,2,3)\n",
        "print(id(a))\n",
        "a=a+(4,5)\n",
        "print(a,id(a))"
      ],
      "metadata": {
        "colab": {
          "base_uri": "https://localhost:8080/"
        },
        "id": "tV866L4bi122",
        "outputId": "37f904fd-bc83-4d3d-c86d-f372a9f913b0"
      },
      "execution_count": 79,
      "outputs": [
        {
          "output_type": "stream",
          "name": "stdout",
          "text": [
            "133318519479616\n",
            "(1, 2, 3, 4, 5) 133318519396272\n"
          ]
        }
      ]
    },
    {
      "cell_type": "markdown",
      "source": [
        "**Side Effect of Mutation**<br>\n",
        "prevention from data integrity issue"
      ],
      "metadata": {
        "id": "P8DXKnrFnSPU"
      }
    },
    {
      "cell_type": "code",
      "source": [
        "a=[1,2,3,4,5]\n",
        "print(a)\n",
        "b=a #aliasing\n",
        "print(b)\n",
        "print(id(a),id(b),sep='\\n')\n",
        "print('______________________')\n",
        "b.append(6) #You are entering is aliase of a from b to add 4\n",
        "print(a)"
      ],
      "metadata": {
        "colab": {
          "base_uri": "https://localhost:8080/"
        },
        "id": "UE6nBWnCi2BW",
        "outputId": "705bd688-3946-4bd0-ce73-88b99cb1ff2e"
      },
      "execution_count": 85,
      "outputs": [
        {
          "output_type": "stream",
          "name": "stdout",
          "text": [
            "[1, 2, 3, 4, 5]\n",
            "[1, 2, 3, 4, 5]\n",
            "133318509040128\n",
            "133318509040128\n",
            "______________________\n",
            "[1, 2, 3, 4, 5, 6]\n"
          ]
        }
      ]
    },
    {
      "cell_type": "code",
      "source": [
        "print(id(a)) #Developer thinks what happend, how 4 arived, because back sided a b aliases do this"
      ],
      "metadata": {
        "colab": {
          "base_uri": "https://localhost:8080/"
        },
        "id": "gIoqik5qi2GP",
        "outputId": "bda7c86c-d09b-4c05-9f01-6086290f86de"
      },
      "execution_count": 86,
      "outputs": [
        {
          "output_type": "stream",
          "name": "stdout",
          "text": [
            "133318509040128\n"
          ]
        }
      ]
    },
    {
      "cell_type": "markdown",
      "source": [
        "**Cloning Concept** ,<br>\n",
        "used as all elements goes to another object with different memory locatio, <br>\n",
        "making copy"
      ],
      "metadata": {
        "id": "h2k3Ppkbn841"
      }
    },
    {
      "cell_type": "code",
      "source": [],
      "metadata": {
        "id": "tMnxTuGsqAwD"
      },
      "execution_count": null,
      "outputs": []
    },
    {
      "cell_type": "code",
      "source": [
        "L1=[1,2,3,4,5]\n",
        "print(L1)\n",
        "print('This is ML of L:',id(L1))\n",
        "print('Making Clone instead of Aliasing')\n",
        "print('______________________________')\n",
        "L2=L1[:] #all element of L1 goes to L2, not memory reference\n",
        "print(L2)\n",
        "print('This is ML of L2 :',id(L2))"
      ],
      "metadata": {
        "colab": {
          "base_uri": "https://localhost:8080/"
        },
        "id": "NyCjrMQRnsFY",
        "outputId": "6b067998-7e1a-4cdb-810c-a31d980a1485"
      },
      "execution_count": 88,
      "outputs": [
        {
          "output_type": "stream",
          "name": "stdout",
          "text": [
            "[1, 2, 3, 4, 5]\n",
            "This is ML of L: 133318509554944\n",
            "Making Clone instead of Aliasing\n",
            "______________________________\n",
            "[1, 2, 3, 4, 5]\n",
            "This is ML of L2 : 133318509553856\n"
          ]
        }
      ]
    },
    {
      "cell_type": "code",
      "source": [
        "#Now if you change L2, L1 doesnt effect\n",
        "L2.append([6])\n",
        "print(L2)\n",
        "print(id(L2))\n",
        "print('L1 is remain unchange',L1,id(L1))"
      ],
      "metadata": {
        "colab": {
          "base_uri": "https://localhost:8080/"
        },
        "id": "-YUEDO37ohyY",
        "outputId": "5bd1cc1f-2ad9-41ca-b61b-01cc55db0a02"
      },
      "execution_count": 89,
      "outputs": [
        {
          "output_type": "stream",
          "name": "stdout",
          "text": [
            "[1, 2, 3, 4, 5, [6]]\n",
            "133318509553856\n",
            "L1 is remain unchange [1, 2, 3, 4, 5] 133318509554944\n"
          ]
        }
      ]
    },
    {
      "cell_type": "markdown",
      "source": [
        "**Inside imutable , there is mutable**"
      ],
      "metadata": {
        "id": "QZvkioWUo_nl"
      }
    },
    {
      "cell_type": "code",
      "source": [
        "a=(1,2,3,[4,5]) #Can we modify this 5\n",
        "a[-1][-1]=500"
      ],
      "metadata": {
        "id": "ATR8ccmIoyyn"
      },
      "execution_count": 91,
      "outputs": []
    },
    {
      "cell_type": "code",
      "source": [
        "a"
      ],
      "metadata": {
        "colab": {
          "base_uri": "https://localhost:8080/"
        },
        "id": "rQ79cKeZpH4P",
        "outputId": "0004cd80-5f06-48f9-9ba7-2b6fffa5551c"
      },
      "execution_count": 92,
      "outputs": [
        {
          "output_type": "execute_result",
          "data": {
            "text/plain": [
              "(1, 2, 3, [4, 500])"
            ]
          },
          "metadata": {},
          "execution_count": 92
        }
      ]
    },
    {
      "cell_type": "markdown",
      "source": [
        "**Inside Mutable, the is immutable**"
      ],
      "metadata": {
        "id": "fFSfX2d0poEt"
      }
    },
    {
      "cell_type": "code",
      "source": [
        "#Now Can you change this\n",
        "b=[1,2,3,(4,5)]\n",
        "b[-1][-1] #We can't change this"
      ],
      "metadata": {
        "colab": {
          "base_uri": "https://localhost:8080/"
        },
        "id": "uKEBIotYpYQ4",
        "outputId": "0468fa7c-28d6-4ebd-a8b0-d5b299352583"
      },
      "execution_count": 94,
      "outputs": [
        {
          "output_type": "execute_result",
          "data": {
            "text/plain": [
              "5"
            ]
          },
          "metadata": {},
          "execution_count": 94
        }
      ]
    },
    {
      "cell_type": "code",
      "source": [
        "#Tuple cant be eidit na ,,, so Address never change"
      ],
      "metadata": {
        "id": "fOiHVEvcpg04"
      },
      "execution_count": null,
      "outputs": []
    },
    {
      "cell_type": "markdown",
      "source": [
        "**Mutable inside Mutable editing**"
      ],
      "metadata": {
        "id": "fwDOyLVVp_xu"
      }
    },
    {
      "cell_type": "code",
      "source": [
        "a=[1,2]\n",
        "b=[3,4]\n",
        "c=[a,b]"
      ],
      "metadata": {
        "id": "qqBI6FxfqDx-"
      },
      "execution_count": 95,
      "outputs": []
    },
    {
      "cell_type": "code",
      "source": [
        "print(id(a),id(b),id(c),sep='\\n') #Each having differet memory location"
      ],
      "metadata": {
        "colab": {
          "base_uri": "https://localhost:8080/"
        },
        "id": "EzS_M2EGqD1W",
        "outputId": "55272c95-33f0-46c5-fb05-411337f8c731"
      },
      "execution_count": 97,
      "outputs": [
        {
          "output_type": "stream",
          "name": "stdout",
          "text": [
            "133318509558016\n",
            "133318509558720\n",
            "133318509553664\n"
          ]
        }
      ]
    },
    {
      "cell_type": "code",
      "source": [
        "#Now ,understand can this will happend\n",
        "c[0][0] #Means it it a list element, can we change it"
      ],
      "metadata": {
        "colab": {
          "base_uri": "https://localhost:8080/"
        },
        "id": "RwwWttU0qD7J",
        "outputId": "75d181ff-bf5f-4230-fca6-826b05cc3c2c"
      },
      "execution_count": 99,
      "outputs": [
        {
          "output_type": "execute_result",
          "data": {
            "text/plain": [
              "1"
            ]
          },
          "metadata": {},
          "execution_count": 99
        }
      ]
    },
    {
      "cell_type": "code",
      "source": [
        "c[0][0] =3\n",
        "print(c,id(c),sep='\\n') #Without chnaging addressing"
      ],
      "metadata": {
        "colab": {
          "base_uri": "https://localhost:8080/"
        },
        "id": "xZQww3kTqD_-",
        "outputId": "de558797-add8-4960-809d-6ea4ddc15140"
      },
      "execution_count": 100,
      "outputs": [
        {
          "output_type": "stream",
          "name": "stdout",
          "text": [
            "[[3, 2], [3, 4]]\n",
            "133318509553664\n"
          ]
        }
      ]
    },
    {
      "cell_type": "code",
      "source": [
        "id(a) #Also id of a is not chnaged"
      ],
      "metadata": {
        "colab": {
          "base_uri": "https://localhost:8080/"
        },
        "id": "OWmE_nkhqjiR",
        "outputId": "2e595e62-f41d-4cfd-cde0-32ccb46aff0c"
      },
      "execution_count": 101,
      "outputs": [
        {
          "output_type": "execute_result",
          "data": {
            "text/plain": [
              "133318509558016"
            ]
          },
          "metadata": {},
          "execution_count": 101
        }
      ]
    },
    {
      "cell_type": "code",
      "source": [
        "c[0]"
      ],
      "metadata": {
        "colab": {
          "base_uri": "https://localhost:8080/"
        },
        "id": "YMFrZkjUqqmh",
        "outputId": "719abad1-8251-49cf-d773-5d2ad9e97a3a"
      },
      "execution_count": 102,
      "outputs": [
        {
          "output_type": "execute_result",
          "data": {
            "text/plain": [
              "[3, 2]"
            ]
          },
          "metadata": {},
          "execution_count": 102
        }
      ]
    },
    {
      "cell_type": "markdown",
      "source": [
        "**List in append : Address not Changed**<br>\n",
        "**Concatination : Address changed**"
      ],
      "metadata": {
        "id": "RaGdmQjlq-V2"
      }
    },
    {
      "cell_type": "code",
      "source": [
        "c #Exmple 1 - If every thing is List"
      ],
      "metadata": {
        "colab": {
          "base_uri": "https://localhost:8080/"
        },
        "id": "-aMqBdVdq3WK",
        "outputId": "0c639405-2ac9-4bea-c6f9-9cedca8a2f30"
      },
      "execution_count": 103,
      "outputs": [
        {
          "output_type": "execute_result",
          "data": {
            "text/plain": [
              "[[3, 2], [3, 4]]"
            ]
          },
          "metadata": {},
          "execution_count": 103
        }
      ]
    },
    {
      "cell_type": "code",
      "source": [
        "c[0]=c[0]+[5,6]"
      ],
      "metadata": {
        "id": "zGcsyms5rMNB"
      },
      "execution_count": 104,
      "outputs": []
    },
    {
      "cell_type": "code",
      "source": [
        "c"
      ],
      "metadata": {
        "colab": {
          "base_uri": "https://localhost:8080/"
        },
        "id": "viR-MTdArSnB",
        "outputId": "90bfbd31-b32a-4691-946d-29655acb5d2f"
      },
      "execution_count": 105,
      "outputs": [
        {
          "output_type": "execute_result",
          "data": {
            "text/plain": [
              "[[3, 2, 5, 6], [3, 4]]"
            ]
          },
          "metadata": {},
          "execution_count": 105
        }
      ]
    },
    {
      "cell_type": "code",
      "source": [
        "#If it is list inside tuple\n",
        "d=([100,34],[3,4])\n",
        "d"
      ],
      "metadata": {
        "colab": {
          "base_uri": "https://localhost:8080/"
        },
        "id": "Q5G40DV9rUIJ",
        "outputId": "ca9fde20-23c7-49da-aad0-bf2a4b9421c5"
      },
      "execution_count": 107,
      "outputs": [
        {
          "output_type": "execute_result",
          "data": {
            "text/plain": [
              "([100, 34], [3, 4])"
            ]
          },
          "metadata": {},
          "execution_count": 107
        }
      ]
    },
    {
      "cell_type": "code",
      "source": [
        "d[0]=d[0]+[56,6] #No concatination on Tuple"
      ],
      "metadata": {
        "colab": {
          "base_uri": "https://localhost:8080/",
          "height": 179
        },
        "id": "VRuP06cNrfmB",
        "outputId": "517d247e-ab4a-48b7-f9a1-2c6b06eb294f"
      },
      "execution_count": 108,
      "outputs": [
        {
          "output_type": "error",
          "ename": "TypeError",
          "evalue": "ignored",
          "traceback": [
            "\u001b[0;31m---------------------------------------------------------------------------\u001b[0m",
            "\u001b[0;31mTypeError\u001b[0m                                 Traceback (most recent call last)",
            "\u001b[0;32m<ipython-input-108-44dffe8994f3>\u001b[0m in \u001b[0;36m<cell line: 1>\u001b[0;34m()\u001b[0m\n\u001b[0;32m----> 1\u001b[0;31m \u001b[0md\u001b[0m\u001b[0;34m[\u001b[0m\u001b[0;36m0\u001b[0m\u001b[0;34m]\u001b[0m\u001b[0;34m=\u001b[0m\u001b[0md\u001b[0m\u001b[0;34m[\u001b[0m\u001b[0;36m0\u001b[0m\u001b[0;34m]\u001b[0m\u001b[0;34m+\u001b[0m\u001b[0;34m[\u001b[0m\u001b[0;36m56\u001b[0m\u001b[0;34m,\u001b[0m\u001b[0;36m6\u001b[0m\u001b[0;34m]\u001b[0m \u001b[0;31m#No concatination on Tuple\u001b[0m\u001b[0;34m\u001b[0m\u001b[0;34m\u001b[0m\u001b[0m\n\u001b[0m",
            "\u001b[0;31mTypeError\u001b[0m: 'tuple' object does not support item assignment"
          ]
        }
      ]
    },
    {
      "cell_type": "code",
      "source": [],
      "metadata": {
        "id": "HL0sdTuyrptJ"
      },
      "execution_count": null,
      "outputs": []
    }
  ]
}