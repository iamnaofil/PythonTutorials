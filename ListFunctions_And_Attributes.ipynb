{
  "nbformat": 4,
  "nbformat_minor": 0,
  "metadata": {
    "colab": {
      "provenance": []
    },
    "kernelspec": {
      "name": "python3",
      "display_name": "Python 3"
    },
    "language_info": {
      "name": "python"
    }
  },
  "cells": [
    {
      "cell_type": "markdown",
      "source": [
        "**Functions in List**"
      ],
      "metadata": {
        "id": "2J7wI7937k2a"
      }
    },
    {
      "cell_type": "code",
      "execution_count": 3,
      "metadata": {
        "colab": {
          "base_uri": "https://localhost:8080/"
        },
        "id": "EfCF5XPc7hwS",
        "outputId": "f132d1e9-7838-40d5-ad20-5dddcb5dc39f"
      },
      "outputs": [
        {
          "output_type": "stream",
          "name": "stdout",
          "text": [
            "Lenght of L1 : 7 \n",
            " Lenght of L2 : 6\n"
          ]
        }
      ],
      "source": [
        "#format attribute\n",
        "L1=[1,2,3,4,5,6,7]\n",
        "L2=['Abbas','Rahul','Shiv','Asad','Vikram','Kunal']\n",
        "print('Lenght of L1 : {} \\n Lenght of L2 : {}'.format(len(L1),len(L2)))"
      ]
    },
    {
      "cell_type": "markdown",
      "source": [
        "**Append in List (single Element Not Sequence)**"
      ],
      "metadata": {
        "id": "3tyZ1nch8LR0"
      }
    },
    {
      "cell_type": "code",
      "source": [
        "L1.append(1)\n",
        "print(L1)"
      ],
      "metadata": {
        "colab": {
          "base_uri": "https://localhost:8080/"
        },
        "id": "X_aMVbz978XA",
        "outputId": "59531513-9f9e-485d-b9bf-65dfc029ea5a"
      },
      "execution_count": 4,
      "outputs": [
        {
          "output_type": "stream",
          "name": "stdout",
          "text": [
            "[1, 2, 3, 4, 5, 6, 7, 1]\n"
          ]
        }
      ]
    },
    {
      "cell_type": "code",
      "source": [
        "L2.append('Ahmad')\n",
        "print(L2)"
      ],
      "metadata": {
        "colab": {
          "base_uri": "https://localhost:8080/"
        },
        "id": "OGydeLPR8SjP",
        "outputId": "28a5d46c-70be-4cbe-83e7-f303e6dd209f"
      },
      "execution_count": 5,
      "outputs": [
        {
          "output_type": "stream",
          "name": "stdout",
          "text": [
            "['Abbas', 'Rahul', 'Shiv', 'Asad', 'Vikram', 'Kunal', 'Ahmad']\n"
          ]
        }
      ]
    },
    {
      "cell_type": "markdown",
      "source": [
        "**Append multiple Value using Extend ( not single element only Iterable)**"
      ],
      "metadata": {
        "id": "uJSsz--08Y9g"
      }
    },
    {
      "cell_type": "code",
      "source": [
        "L1.append([10,11,12,14]) #It will assume as list so we use EXTEND\n",
        "print(L1)"
      ],
      "metadata": {
        "colab": {
          "base_uri": "https://localhost:8080/"
        },
        "id": "Xj1sAflA8W0g",
        "outputId": "68403ec2-6b23-4c9b-bd59-b761802ff93d"
      },
      "execution_count": 6,
      "outputs": [
        {
          "output_type": "stream",
          "name": "stdout",
          "text": [
            "[1, 2, 3, 4, 5, 6, 7, 1, [10, 11, 12, 14]]\n"
          ]
        }
      ]
    },
    {
      "cell_type": "code",
      "source": [
        "L1.extend([10,11,12,14])\n",
        "print(L1)"
      ],
      "metadata": {
        "colab": {
          "base_uri": "https://localhost:8080/"
        },
        "id": "OeC1hWoh8k-L",
        "outputId": "f0989af3-4fd8-4910-ac9e-c9306df2d7cc"
      },
      "execution_count": 7,
      "outputs": [
        {
          "output_type": "stream",
          "name": "stdout",
          "text": [
            "[1, 2, 3, 4, 5, 6, 7, 1, [10, 11, 12, 14], 10, 11, 12, 14]\n"
          ]
        }
      ]
    },
    {
      "cell_type": "code",
      "source": [
        "#String as Sequencially Treated When Extend applies\n",
        "L2.extend('Pranay') #It will treat indivisual Characters\n",
        "print(L2)"
      ],
      "metadata": {
        "colab": {
          "base_uri": "https://localhost:8080/"
        },
        "id": "j2OqaDF58w-W",
        "outputId": "8aeb07a1-1324-49be-bd0f-1355cc7c17d4"
      },
      "execution_count": 8,
      "outputs": [
        {
          "output_type": "stream",
          "name": "stdout",
          "text": [
            "['Abbas', 'Rahul', 'Shiv', 'Asad', 'Vikram', 'Kunal', 'Ahmad', 'P', 'r', 'a', 'n', 'a', 'y']\n"
          ]
        }
      ]
    },
    {
      "cell_type": "code",
      "source": [
        "L2.extend(['Pranay'])\n",
        "print(L2)"
      ],
      "metadata": {
        "colab": {
          "base_uri": "https://localhost:8080/"
        },
        "id": "9mBC_NNc86CB",
        "outputId": "1ced9651-e2ed-4257-c02f-54f94a793be5"
      },
      "execution_count": 9,
      "outputs": [
        {
          "output_type": "stream",
          "name": "stdout",
          "text": [
            "['Abbas', 'Rahul', 'Shiv', 'Asad', 'Vikram', 'Kunal', 'Ahmad', 'P', 'r', 'a', 'n', 'a', 'y', 'Pranay']\n"
          ]
        }
      ]
    },
    {
      "cell_type": "markdown",
      "source": [
        "**Remove Items by its Value(only first occurance if duplicates)**"
      ],
      "metadata": {
        "id": "2nZuN_m09HLY"
      }
    },
    {
      "cell_type": "code",
      "source": [
        "#Assume we want to remove a in P r a n a y\n",
        "#it will delete first occurance\n",
        "L2.remove('a')\n",
        "print(L2)"
      ],
      "metadata": {
        "colab": {
          "base_uri": "https://localhost:8080/"
        },
        "id": "kY4Wdrx-9BYa",
        "outputId": "bfccf421-db19-416c-88d5-f778f0e11693"
      },
      "execution_count": 10,
      "outputs": [
        {
          "output_type": "stream",
          "name": "stdout",
          "text": [
            "['Abbas', 'Rahul', 'Shiv', 'Asad', 'Vikram', 'Kunal', 'Ahmad', 'P', 'r', 'n', 'a', 'y', 'Pranay']\n"
          ]
        }
      ]
    },
    {
      "cell_type": "code",
      "source": [
        "#Suppose here in L1 we want to delete that List element of [10,11,12,14]\n",
        "L1.remove([10,11,12,14]) #Specify it in a List\n",
        "print(L1)"
      ],
      "metadata": {
        "colab": {
          "base_uri": "https://localhost:8080/"
        },
        "id": "K54WtLti9lmE",
        "outputId": "e8a5fedc-66ed-4b42-c357-4f467fd28d2e"
      },
      "execution_count": 12,
      "outputs": [
        {
          "output_type": "stream",
          "name": "stdout",
          "text": [
            "[1, 2, 3, 4, 5, 6, 7, 1, 10, 11, 12, 14]\n"
          ]
        }
      ]
    },
    {
      "cell_type": "code",
      "source": [
        "#L2.remove(('P','r','n')) #We have not any function that deletes multiple values from list\n",
        "#So we do membership operation on List\n",
        "rmlist=['P','r','n','a','y']\n",
        "L3=[i for i in L2 if i not in rmlist]# remeber this operations\n",
        "print(L3)"
      ],
      "metadata": {
        "colab": {
          "base_uri": "https://localhost:8080/"
        },
        "id": "K0P9FyUN9wU6",
        "outputId": "0a4ffa9d-fe19-4f2d-8880-3d486d2e37eb"
      },
      "execution_count": 18,
      "outputs": [
        {
          "output_type": "stream",
          "name": "stdout",
          "text": [
            "['Abbas', 'Rahul', 'Shiv', 'Asad', 'Vikram', 'Kunal', 'Ahmad', 'Pranay']\n"
          ]
        }
      ]
    },
    {
      "cell_type": "markdown",
      "source": [
        "**Pop function (remove last inserted value)**"
      ],
      "metadata": {
        "id": "vcbodjLM_SoX"
      }
    },
    {
      "cell_type": "code",
      "source": [
        "L1 #Here you can see 14 is last inserted value"
      ],
      "metadata": {
        "colab": {
          "base_uri": "https://localhost:8080/"
        },
        "id": "Wk27gGTl-BAq",
        "outputId": "f1b64d6f-5333-4973-d650-4a69118e71fc"
      },
      "execution_count": 19,
      "outputs": [
        {
          "output_type": "execute_result",
          "data": {
            "text/plain": [
              "[1, 2, 3, 4, 5, 6, 7, 1, 10, 11, 12, 14]"
            ]
          },
          "metadata": {},
          "execution_count": 19
        }
      ]
    },
    {
      "cell_type": "code",
      "source": [
        "L1.pop()\n",
        "print(L1)"
      ],
      "metadata": {
        "colab": {
          "base_uri": "https://localhost:8080/"
        },
        "id": "A32-zPPl_Xtp",
        "outputId": "799f0240-2f87-4a02-f5c7-af61e95f742b"
      },
      "execution_count": 20,
      "outputs": [
        {
          "output_type": "stream",
          "name": "stdout",
          "text": [
            "[1, 2, 3, 4, 5, 6, 7, 1, 10, 11, 12]\n"
          ]
        }
      ]
    },
    {
      "cell_type": "code",
      "source": [
        "#ASsume if we reverse it then think what happend\n",
        "L1.reverse() #reverse function in List"
      ],
      "metadata": {
        "id": "3XSwvdWe_aqP"
      },
      "execution_count": 21,
      "outputs": []
    },
    {
      "cell_type": "code",
      "source": [
        "L1"
      ],
      "metadata": {
        "colab": {
          "base_uri": "https://localhost:8080/"
        },
        "id": "iT7d7smC_lb0",
        "outputId": "736eeda4-e72e-4954-d8b5-18e72ed104b6"
      },
      "execution_count": 22,
      "outputs": [
        {
          "output_type": "execute_result",
          "data": {
            "text/plain": [
              "[12, 11, 10, 1, 7, 6, 5, 4, 3, 2, 1]"
            ]
          },
          "metadata": {},
          "execution_count": 22
        }
      ]
    },
    {
      "cell_type": "code",
      "source": [
        "L1.pop()\n"
      ],
      "metadata": {
        "id": "vGx1ex2j_mTa"
      },
      "execution_count": null,
      "outputs": []
    },
    {
      "cell_type": "code",
      "source": [
        "print(L1)"
      ],
      "metadata": {
        "colab": {
          "base_uri": "https://localhost:8080/"
        },
        "id": "bMEeJUmM_niY",
        "outputId": "212c3162-e5b3-4bfd-e29b-781f4687a0ae"
      },
      "execution_count": 25,
      "outputs": [
        {
          "output_type": "stream",
          "name": "stdout",
          "text": [
            "[12, 11, 10, 1, 7, 6, 5, 4, 3, 2]\n"
          ]
        }
      ]
    },
    {
      "cell_type": "code",
      "source": [
        "#See, pop thinks actually right, after reversing, the last inserted value is 1 in List L1\n",
        "#It means pop actually base on items INDEXING"
      ],
      "metadata": {
        "id": "LOhTRFdx_nn3"
      },
      "execution_count": null,
      "outputs": []
    },
    {
      "cell_type": "markdown",
      "source": [
        "**pop with INDEX**"
      ],
      "metadata": {
        "id": "fr88LP-u_4XS"
      }
    },
    {
      "cell_type": "code",
      "source": [
        "print(L1)\n",
        "L1.pop(2) #when index specify it will delete that index item\n",
        "print(L1)"
      ],
      "metadata": {
        "colab": {
          "base_uri": "https://localhost:8080/"
        },
        "id": "yv8O5MWp_6UQ",
        "outputId": "8577dedc-9fc2-44b9-c86f-3c0d7e20ef90"
      },
      "execution_count": 26,
      "outputs": [
        {
          "output_type": "stream",
          "name": "stdout",
          "text": [
            "[12, 11, 10, 1, 7, 6, 5, 4, 3, 2]\n",
            "[12, 11, 1, 7, 6, 5, 4, 3, 2]\n"
          ]
        }
      ]
    },
    {
      "cell_type": "markdown",
      "source": [
        "**If You want to know any item index then use pop after**"
      ],
      "metadata": {
        "id": "xwcjeaMZARdL"
      }
    },
    {
      "cell_type": "code",
      "source": [
        "L1.index(11) #The index of 11 is 1"
      ],
      "metadata": {
        "colab": {
          "base_uri": "https://localhost:8080/"
        },
        "id": "kaZQNGq9_6Zp",
        "outputId": "0eed5053-2fcc-4c35-e6b8-e5b3abb45e7e"
      },
      "execution_count": 28,
      "outputs": [
        {
          "output_type": "execute_result",
          "data": {
            "text/plain": [
              "1"
            ]
          },
          "metadata": {},
          "execution_count": 28
        }
      ]
    },
    {
      "cell_type": "code",
      "source": [
        "L2.index('Abbas') #In L2 , Abbas Index is 0"
      ],
      "metadata": {
        "colab": {
          "base_uri": "https://localhost:8080/"
        },
        "id": "5tHnBvZe_6fI",
        "outputId": "1a901503-a9a3-432c-e45f-956dec847174"
      },
      "execution_count": 30,
      "outputs": [
        {
          "output_type": "execute_result",
          "data": {
            "text/plain": [
              "0"
            ]
          },
          "metadata": {},
          "execution_count": 30
        }
      ]
    },
    {
      "cell_type": "code",
      "source": [
        "print(L2)"
      ],
      "metadata": {
        "colab": {
          "base_uri": "https://localhost:8080/"
        },
        "id": "5hkjOW9W_6kR",
        "outputId": "f198e901-97a9-4bbf-d0aa-00c3777040d8"
      },
      "execution_count": 31,
      "outputs": [
        {
          "output_type": "stream",
          "name": "stdout",
          "text": [
            "['Abbas', 'Rahul', 'Shiv', 'Asad', 'Vikram', 'Kunal', 'Ahmad', 'P', 'r', 'n', 'a', 'y', 'Pranay']\n"
          ]
        }
      ]
    },
    {
      "cell_type": "markdown",
      "source": [
        "**Now sorted function (temporary)**"
      ],
      "metadata": {
        "id": "bmjSlO7bAnxz"
      }
    },
    {
      "cell_type": "code",
      "source": [
        "sorted(L3)"
      ],
      "metadata": {
        "colab": {
          "base_uri": "https://localhost:8080/"
        },
        "id": "wAFr6_YdAjAc",
        "outputId": "a6a3ef76-497b-44d0-aa72-c4656246a2c9"
      },
      "execution_count": 35,
      "outputs": [
        {
          "output_type": "execute_result",
          "data": {
            "text/plain": [
              "['Abbas', 'Ahmad', 'Asad', 'Kunal', 'Pranay', 'Rahul', 'Shiv', 'Vikram']"
            ]
          },
          "metadata": {},
          "execution_count": 35
        }
      ]
    },
    {
      "cell_type": "code",
      "source": [
        "L3"
      ],
      "metadata": {
        "colab": {
          "base_uri": "https://localhost:8080/"
        },
        "id": "7bxu_iFZAlFG",
        "outputId": "0951caec-c5db-4881-c54a-cc03a647cbf1"
      },
      "execution_count": 36,
      "outputs": [
        {
          "output_type": "execute_result",
          "data": {
            "text/plain": [
              "['Abbas', 'Rahul', 'Shiv', 'Asad', 'Vikram', 'Kunal', 'Ahmad', 'Pranay']"
            ]
          },
          "metadata": {},
          "execution_count": 36
        }
      ]
    },
    {
      "cell_type": "markdown",
      "source": [
        "**sort() function on List**"
      ],
      "metadata": {
        "id": "8I1hF2EvAxff"
      }
    },
    {
      "cell_type": "code",
      "source": [
        "L3.sort()"
      ],
      "metadata": {
        "id": "nPbCdAplAu9O"
      },
      "execution_count": 37,
      "outputs": []
    },
    {
      "cell_type": "code",
      "source": [
        "print(L3)"
      ],
      "metadata": {
        "colab": {
          "base_uri": "https://localhost:8080/"
        },
        "id": "tPv1ITD0A32V",
        "outputId": "52d3b6f7-766e-4ee2-c60d-d2de3c852be9"
      },
      "execution_count": 38,
      "outputs": [
        {
          "output_type": "stream",
          "name": "stdout",
          "text": [
            "['Abbas', 'Ahmad', 'Asad', 'Kunal', 'Pranay', 'Rahul', 'Shiv', 'Vikram']\n"
          ]
        }
      ]
    },
    {
      "cell_type": "markdown",
      "source": [
        "**Reverse Sort**"
      ],
      "metadata": {
        "id": "ydaS2YkFA_t2"
      }
    },
    {
      "cell_type": "code",
      "source": [
        "L3.sort(reverse=True)"
      ],
      "metadata": {
        "id": "_QIChRxwA-FC"
      },
      "execution_count": 39,
      "outputs": []
    },
    {
      "cell_type": "code",
      "source": [
        "L3"
      ],
      "metadata": {
        "colab": {
          "base_uri": "https://localhost:8080/"
        },
        "id": "lxFMxweMKRLN",
        "outputId": "1695949b-a6d5-46d9-96c3-ed8ca49a2fb7"
      },
      "execution_count": 40,
      "outputs": [
        {
          "output_type": "execute_result",
          "data": {
            "text/plain": [
              "['Vikram', 'Shiv', 'Rahul', 'Pranay', 'Kunal', 'Asad', 'Ahmad', 'Abbas']"
            ]
          },
          "metadata": {},
          "execution_count": 40
        }
      ]
    },
    {
      "cell_type": "markdown",
      "source": [
        "**Count the occurance of any word in List** not letter\n"
      ],
      "metadata": {
        "id": "6s00YkyhKXlT"
      }
    },
    {
      "cell_type": "code",
      "source": [
        "L3.count('a')"
      ],
      "metadata": {
        "colab": {
          "base_uri": "https://localhost:8080/"
        },
        "id": "X-kSv9iqKSJk",
        "outputId": "4d09370c-be6d-4d64-cc64-d5728ed61935"
      },
      "execution_count": 45,
      "outputs": [
        {
          "output_type": "execute_result",
          "data": {
            "text/plain": [
              "0"
            ]
          },
          "metadata": {},
          "execution_count": 45
        }
      ]
    },
    {
      "cell_type": "code",
      "source": [
        "L3.count('Asad')"
      ],
      "metadata": {
        "colab": {
          "base_uri": "https://localhost:8080/"
        },
        "id": "HJuIgkoIKWqy",
        "outputId": "ac4071bb-fce2-448c-d0f9-97fa1c8763a7"
      },
      "execution_count": 46,
      "outputs": [
        {
          "output_type": "execute_result",
          "data": {
            "text/plain": [
              "1"
            ]
          },
          "metadata": {},
          "execution_count": 46
        }
      ]
    },
    {
      "cell_type": "markdown",
      "source": [
        "**More Functionality with List**"
      ],
      "metadata": {
        "id": "9Hcm6yyyKz7f"
      }
    },
    {
      "cell_type": "code",
      "source": [
        "L3\n",
        "L4=[] #Took a empty list\n",
        "text=\"hey there how are you?\"\n",
        "print('text :',text)"
      ],
      "metadata": {
        "colab": {
          "base_uri": "https://localhost:8080/"
        },
        "id": "7bZ-WvSgKW3e",
        "outputId": "540eaccd-074d-4a57-b606-3fef65872725"
      },
      "execution_count": 48,
      "outputs": [
        {
          "output_type": "stream",
          "name": "stdout",
          "text": [
            "text : hey there how are you?\n"
          ]
        }
      ]
    },
    {
      "cell_type": "code",
      "source": [
        "#NOW We want that every character become capital\n",
        "text.upper() #Yesss,, but remeber this is not permanent changes"
      ],
      "metadata": {
        "colab": {
          "base_uri": "https://localhost:8080/",
          "height": 36
        },
        "id": "3coT8KN5KW6R",
        "outputId": "fe9cd13f-d699-4c3e-9cb4-5b2da6acb776"
      },
      "execution_count": 49,
      "outputs": [
        {
          "output_type": "execute_result",
          "data": {
            "text/plain": [
              "'HEY THERE HOW ARE YOU?'"
            ],
            "application/vnd.google.colaboratory.intrinsic+json": {
              "type": "string"
            }
          },
          "metadata": {},
          "execution_count": 49
        }
      ]
    },
    {
      "cell_type": "code",
      "source": [
        "#If you take it in list?\n",
        "[text.upper()]"
      ],
      "metadata": {
        "colab": {
          "base_uri": "https://localhost:8080/"
        },
        "id": "9-cuW9GZKW9K",
        "outputId": "4be21493-2cb6-4abf-e483-d2c24dfa2ff5"
      },
      "execution_count": 50,
      "outputs": [
        {
          "output_type": "execute_result",
          "data": {
            "text/plain": [
              "['HEY THERE HOW ARE YOU?']"
            ]
          },
          "metadata": {},
          "execution_count": 50
        }
      ]
    },
    {
      "cell_type": "code",
      "source": [
        "#No, I mean every letter as single single character\n",
        "#That empty L4=[] list utilize it\n",
        "text.split()"
      ],
      "metadata": {
        "colab": {
          "base_uri": "https://localhost:8080/"
        },
        "id": "Mn1d85i9KXAG",
        "outputId": "2bcb0d53-87a3-4376-f424-9f72addc4e14"
      },
      "execution_count": 51,
      "outputs": [
        {
          "output_type": "execute_result",
          "data": {
            "text/plain": [
              "['hey', 'there', 'how', 'are', 'you?']"
            ]
          },
          "metadata": {},
          "execution_count": 51
        }
      ]
    },
    {
      "cell_type": "code",
      "source": [
        "#So lets take a loop\n",
        "for i in text.split(): #I take those index that are in text.split\n",
        "    a=i.capitalize() #take i that capitalize then store in a\n",
        "    L4.append(a) #every time a appended in L4 List\n",
        "print(L4)"
      ],
      "metadata": {
        "colab": {
          "base_uri": "https://localhost:8080/"
        },
        "id": "e7tzzU5wLpJ-",
        "outputId": "43df5a78-54cf-4d3f-d9bc-5beb083d8ed7"
      },
      "execution_count": 59,
      "outputs": [
        {
          "output_type": "stream",
          "name": "stdout",
          "text": [
            "['Hey', 'There', 'How', 'Are', 'You?']\n"
          ]
        }
      ]
    },
    {
      "cell_type": "markdown",
      "source": [
        "**Q1) Find @ and Split from Email Format Text**"
      ],
      "metadata": {
        "id": "vJKdRmWOMxF_"
      }
    },
    {
      "cell_type": "code",
      "source": [
        "p1='momin.naofil@gmail.com'\n",
        "p2='khan.arbaz@gmail.com'\n",
        "p3='chaudhryashfaque@gmail.com'\n"
      ],
      "metadata": {
        "id": "vzDN1aRKL1E4"
      },
      "execution_count": 60,
      "outputs": []
    },
    {
      "cell_type": "code",
      "source": [
        "p1.find('@')"
      ],
      "metadata": {
        "colab": {
          "base_uri": "https://localhost:8080/"
        },
        "id": "cPWD9Y84NBqi",
        "outputId": "4dfeb20b-0dd5-493b-909b-008026279b5b"
      },
      "execution_count": 61,
      "outputs": [
        {
          "output_type": "execute_result",
          "data": {
            "text/plain": [
              "12"
            ]
          },
          "metadata": {},
          "execution_count": 61
        }
      ]
    },
    {
      "cell_type": "code",
      "source": [
        "p2.find('@') #In every string position of @ is different"
      ],
      "metadata": {
        "colab": {
          "base_uri": "https://localhost:8080/"
        },
        "id": "EW8dAPEENBwP",
        "outputId": "313e74e0-3de7-4b42-8d5f-25141fa42050"
      },
      "execution_count": 62,
      "outputs": [
        {
          "output_type": "execute_result",
          "data": {
            "text/plain": [
              "10"
            ]
          },
          "metadata": {},
          "execution_count": 62
        }
      ]
    },
    {
      "cell_type": "code",
      "source": [
        "#Lets make it in a List by its variable assigned in a [ ]\n",
        "mail=[p1,p2,p3]\n",
        "print(mail)"
      ],
      "metadata": {
        "colab": {
          "base_uri": "https://localhost:8080/"
        },
        "id": "RT2B6oHtNB1N",
        "outputId": "b862bf2e-abf1-4a0e-a14b-6be9dbaed69f"
      },
      "execution_count": 63,
      "outputs": [
        {
          "output_type": "stream",
          "name": "stdout",
          "text": [
            "['momin.naofil@gmail.com', 'khan.arbaz@gmail.com', 'chaudhryashfaque@gmail.com']\n"
          ]
        }
      ]
    },
    {
      "cell_type": "code",
      "source": [
        "#Now for loop\n",
        "emp=[] #an empty list for future appending\n",
        "for i in mail:\n",
        "    #print(i) #Firstly see, then\n",
        "    #print(i.find('@')) #find position of @\n",
        "    print(i[:i.find('@')]) #we do silicng here\n",
        "    a=i[:i.find('@')] #Then same we assign a variable to store\n",
        "    emp.append(a) #lastyly append them is emp list\n",
        "print(emp)"
      ],
      "metadata": {
        "colab": {
          "base_uri": "https://localhost:8080/"
        },
        "id": "5xRJ50PtNB6F",
        "outputId": "a4ede25c-57ff-4199-8d36-078868fb8ee4"
      },
      "execution_count": 67,
      "outputs": [
        {
          "output_type": "stream",
          "name": "stdout",
          "text": [
            "momin.naofil\n",
            "khan.arbaz\n",
            "chaudhryashfaque\n",
            "['momin.naofil', 'khan.arbaz', 'chaudhryashfaque']\n"
          ]
        }
      ]
    },
    {
      "cell_type": "markdown",
      "source": [
        "**Q2) Duplicates values and Unique Values**"
      ],
      "metadata": {
        "id": "R60PPkNBMw7G"
      }
    },
    {
      "cell_type": "code",
      "source": [
        "L5=[1,1,1,2,2,3,3,3,3,4,4]\n",
        "L6=[] #In this List , I want only Uniques Values\n",
        "for i in L5:\n",
        "    if i not in L6: #Here Those who are already in L6 that wil not go into L6(means Unique)\n",
        "        L6.append(i)\n",
        "print(L6)"
      ],
      "metadata": {
        "colab": {
          "base_uri": "https://localhost:8080/"
        },
        "id": "Hppc_nBcOMUY",
        "outputId": "964b95af-bd59-4303-f4c4-6db3fb488853"
      },
      "execution_count": 70,
      "outputs": [
        {
          "output_type": "stream",
          "name": "stdout",
          "text": [
            "[1, 2, 3, 4]\n"
          ]
        }
      ]
    },
    {
      "cell_type": "markdown",
      "source": [
        "**Q3) Make two different list of first name and last name from names**"
      ],
      "metadata": {
        "id": "2EZ5HGpVPXcC"
      }
    },
    {
      "cell_type": "code",
      "source": [
        "names=['Momin Naofil','Ansari Zubair','Ansari Hifza','Pandey Dilip','Chaudhry Hemant','Momin Zufa']\n",
        "print(names)"
      ],
      "metadata": {
        "colab": {
          "base_uri": "https://localhost:8080/"
        },
        "id": "V7WRWPHxOMcI",
        "outputId": "fbaa6963-2e49-4ecd-86d6-ad07b02330f6"
      },
      "execution_count": 71,
      "outputs": [
        {
          "output_type": "stream",
          "name": "stdout",
          "text": [
            "['Momin Naofil', 'Ansari Zubair', 'Ansari Hifza', 'Pandey Dilip', 'Chaudhry Hemant', 'Momin Zufa']\n"
          ]
        }
      ]
    },
    {
      "cell_type": "code",
      "source": [
        "fnames=[]\n",
        "lnames=[]\n",
        "for i in names:\n",
        "    fn=(i[:i.find(' ')])\n",
        "    ln=(i[i.find(' '):].strip())\n",
        "    fnames.append(fn)\n",
        "    lnames.append(ln)\n",
        "print(fnames,lnames,sep='\\n')"
      ],
      "metadata": {
        "colab": {
          "base_uri": "https://localhost:8080/"
        },
        "id": "rXJ39bx1OMgU",
        "outputId": "837a2eda-1c2b-4e1c-b6d2-d44b3a14bea4"
      },
      "execution_count": 76,
      "outputs": [
        {
          "output_type": "stream",
          "name": "stdout",
          "text": [
            "['Momin', 'Ansari', 'Ansari', 'Pandey', 'Chaudhry', 'Momin']\n",
            "['Naofil', 'Zubair', 'Hifza', 'Dilip', 'Hemant', 'Zufa']\n"
          ]
        }
      ]
    },
    {
      "cell_type": "code",
      "source": [],
      "metadata": {
        "id": "Ojl8Xkr8OMin"
      },
      "execution_count": null,
      "outputs": []
    },
    {
      "cell_type": "code",
      "source": [],
      "metadata": {
        "id": "KakUzC6dOMr4"
      },
      "execution_count": null,
      "outputs": []
    },
    {
      "cell_type": "code",
      "source": [],
      "metadata": {
        "id": "IatVwiDjOMuf"
      },
      "execution_count": null,
      "outputs": []
    },
    {
      "cell_type": "code",
      "source": [],
      "metadata": {
        "id": "sCkgCDHYOMxc"
      },
      "execution_count": null,
      "outputs": []
    }
  ]
}